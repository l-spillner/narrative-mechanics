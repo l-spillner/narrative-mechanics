{
 "cells": [
  {
   "cell_type": "code",
   "execution_count": 122,
   "id": "66e083b9",
   "metadata": {},
   "outputs": [],
   "source": [
    "import json\n",
    "import csv\n",
    "import pickle\n",
    "import random\n",
    "import pandas as pd\n",
    "import numpy as np\n",
    "import networkx as nx\n",
    "import pprint\n",
    "\n",
    "import spacy\n",
    "from spacy import displacy\n",
    "from spacy.tokens import Span\n",
    "from langdetect import detect\n",
    "from cleantext import clean\n",
    "import re"
   ]
  },
  {
   "cell_type": "code",
   "execution_count": 2,
   "id": "d61a594c",
   "metadata": {},
   "outputs": [
    {
     "name": "stderr",
     "output_type": "stream",
     "text": [
      "/Users/laura/miniforge3/envs/test/lib/python3.9/site-packages/spacy/util.py:833: UserWarning: [W095] Model 'en_core_web_lg' (3.1.0) was trained with spaCy v3.1 and may not be 100% compatible with the current version (3.2.2). If you see errors or degraded performance, download a newer compatible model or retrain your custom model with the current spaCy version. For more details and available updates, run: python -m spacy validate\n",
      "  warnings.warn(warn_msg)\n"
     ]
    }
   ],
   "source": [
    "nlp = spacy.load(\"en_core_web_lg\")"
   ]
  },
  {
   "cell_type": "code",
   "execution_count": 3,
   "id": "b0f0403d",
   "metadata": {},
   "outputs": [],
   "source": [
    "with open('tweets_1000.json', 'r') as file:\n",
    "    all_tweets = json.load(file)"
   ]
  },
  {
   "cell_type": "code",
   "execution_count": 4,
   "id": "4b5dd7ab",
   "metadata": {},
   "outputs": [],
   "source": [
    "import math\n",
    "\n",
    "def get_type(refs):\n",
    "    \n",
    "    if not isinstance(refs, list):\n",
    "        return \"tweet\"\n",
    "    else:\n",
    "        return refs[0][\"type\"]\n",
    "    \n",
    "def get_lang(text):\n",
    "    try:\n",
    "        language = detect(text)\n",
    "    except:\n",
    "        language = None\n",
    "    return language"
   ]
  },
  {
   "cell_type": "code",
   "execution_count": 5,
   "id": "95d96bdf",
   "metadata": {
    "scrolled": true
   },
   "outputs": [
    {
     "data": {
      "text/html": [
       "<div>\n",
       "<style scoped>\n",
       "    .dataframe tbody tr th:only-of-type {\n",
       "        vertical-align: middle;\n",
       "    }\n",
       "\n",
       "    .dataframe tbody tr th {\n",
       "        vertical-align: top;\n",
       "    }\n",
       "\n",
       "    .dataframe thead th {\n",
       "        text-align: right;\n",
       "    }\n",
       "</style>\n",
       "<table border=\"1\" class=\"dataframe\">\n",
       "  <thead>\n",
       "    <tr style=\"text-align: right;\">\n",
       "      <th></th>\n",
       "      <th>text</th>\n",
       "      <th>author_id</th>\n",
       "      <th>created_at</th>\n",
       "      <th>referenced_tweets</th>\n",
       "      <th>context_annotations</th>\n",
       "      <th>withheld</th>\n",
       "      <th>geo</th>\n",
       "      <th>type</th>\n",
       "      <th>lang</th>\n",
       "    </tr>\n",
       "    <tr>\n",
       "      <th>id</th>\n",
       "      <th></th>\n",
       "      <th></th>\n",
       "      <th></th>\n",
       "      <th></th>\n",
       "      <th></th>\n",
       "      <th></th>\n",
       "      <th></th>\n",
       "      <th></th>\n",
       "      <th></th>\n",
       "    </tr>\n",
       "  </thead>\n",
       "  <tbody>\n",
       "    <tr>\n",
       "      <th>1501715377335775235</th>\n",
       "      <td>RT @stillgray: U.S. Under Secretary of State V...</td>\n",
       "      <td>115792183</td>\n",
       "      <td>2022-03-10T00:23:41.000Z</td>\n",
       "      <td>[{'type': 'retweeted', 'id': '1501310103529541...</td>\n",
       "      <td>NaN</td>\n",
       "      <td>NaN</td>\n",
       "      <td>NaN</td>\n",
       "      <td>retweeted</td>\n",
       "      <td>en</td>\n",
       "    </tr>\n",
       "    <tr>\n",
       "      <th>1501734364664590338</th>\n",
       "      <td>@BHDonk1 Russia took Crimea after the U.S. fun...</td>\n",
       "      <td>1376636130246860801</td>\n",
       "      <td>2022-03-10T01:39:08.000Z</td>\n",
       "      <td>[{'type': 'replied_to', 'id': '150172868701149...</td>\n",
       "      <td>NaN</td>\n",
       "      <td>NaN</td>\n",
       "      <td>NaN</td>\n",
       "      <td>replied_to</td>\n",
       "      <td>en</td>\n",
       "    </tr>\n",
       "    <tr>\n",
       "      <th>1501715719205097472</th>\n",
       "      <td>RT @anneapplebaum: There is always a military ...</td>\n",
       "      <td>285005616</td>\n",
       "      <td>2022-03-10T00:25:02.000Z</td>\n",
       "      <td>[{'type': 'retweeted', 'id': '1501700149332090...</td>\n",
       "      <td>NaN</td>\n",
       "      <td>NaN</td>\n",
       "      <td>NaN</td>\n",
       "      <td>retweeted</td>\n",
       "      <td>en</td>\n",
       "    </tr>\n",
       "    <tr>\n",
       "      <th>1501725096087588866</th>\n",
       "      <td>RT @RonFilipkowski: It’s Guilfoyle’s birthday,...</td>\n",
       "      <td>1948262269</td>\n",
       "      <td>2022-03-10T01:02:18.000Z</td>\n",
       "      <td>[{'type': 'retweeted', 'id': '1501706894905585...</td>\n",
       "      <td>[{'domain': {'id': '10', 'name': 'Person', 'de...</td>\n",
       "      <td>NaN</td>\n",
       "      <td>NaN</td>\n",
       "      <td>retweeted</td>\n",
       "      <td>en</td>\n",
       "    </tr>\n",
       "    <tr>\n",
       "      <th>1501734648711245827</th>\n",
       "      <td>RT @EpicSerbian: Russians pre-empted Donbass a...</td>\n",
       "      <td>257097577</td>\n",
       "      <td>2022-03-10T01:40:15.000Z</td>\n",
       "      <td>[{'type': 'retweeted', 'id': '1501580337993838...</td>\n",
       "      <td>NaN</td>\n",
       "      <td>NaN</td>\n",
       "      <td>NaN</td>\n",
       "      <td>retweeted</td>\n",
       "      <td>en</td>\n",
       "    </tr>\n",
       "    <tr>\n",
       "      <th>...</th>\n",
       "      <td>...</td>\n",
       "      <td>...</td>\n",
       "      <td>...</td>\n",
       "      <td>...</td>\n",
       "      <td>...</td>\n",
       "      <td>...</td>\n",
       "      <td>...</td>\n",
       "      <td>...</td>\n",
       "      <td>...</td>\n",
       "    </tr>\n",
       "    <tr>\n",
       "      <th>1498075055573676033</th>\n",
       "      <td>RT @ataraxie66: Etrange quand même, on trouve ...</td>\n",
       "      <td>1135125324</td>\n",
       "      <td>2022-02-27T23:18:20.000Z</td>\n",
       "      <td>[{'type': 'retweeted', 'id': '1498071752345276...</td>\n",
       "      <td>[{'domain': {'id': '45', 'name': 'Brand Vertic...</td>\n",
       "      <td>NaN</td>\n",
       "      <td>NaN</td>\n",
       "      <td>retweeted</td>\n",
       "      <td>fr</td>\n",
       "    </tr>\n",
       "    <tr>\n",
       "      <th>1498075067812614144</th>\n",
       "      <td>@RadioFreeTom Maybe Putin is going through an ...</td>\n",
       "      <td>3798288154</td>\n",
       "      <td>2022-02-27T23:18:23.000Z</td>\n",
       "      <td>[{'type': 'replied_to', 'id': '149804628286630...</td>\n",
       "      <td>[{'domain': {'id': '10', 'name': 'Person', 'de...</td>\n",
       "      <td>NaN</td>\n",
       "      <td>NaN</td>\n",
       "      <td>replied_to</td>\n",
       "      <td>en</td>\n",
       "    </tr>\n",
       "    <tr>\n",
       "      <th>1498074904461205504</th>\n",
       "      <td>@Judmir3 Its fake, I don't know what this is b...</td>\n",
       "      <td>1370452383889772546</td>\n",
       "      <td>2022-02-27T23:17:44.000Z</td>\n",
       "      <td>[{'type': 'replied_to', 'id': '149805059902325...</td>\n",
       "      <td>NaN</td>\n",
       "      <td>NaN</td>\n",
       "      <td>NaN</td>\n",
       "      <td>replied_to</td>\n",
       "      <td>en</td>\n",
       "    </tr>\n",
       "    <tr>\n",
       "      <th>1498075030160293892</th>\n",
       "      <td>RT @FaroPeriodismo: #URGENTE nueva primicia en...</td>\n",
       "      <td>1338598368474435588</td>\n",
       "      <td>2022-02-27T23:18:14.000Z</td>\n",
       "      <td>[{'type': 'retweeted', 'id': '1497966248382005...</td>\n",
       "      <td>NaN</td>\n",
       "      <td>NaN</td>\n",
       "      <td>NaN</td>\n",
       "      <td>retweeted</td>\n",
       "      <td>es</td>\n",
       "    </tr>\n",
       "    <tr>\n",
       "      <th>1498082471308627971</th>\n",
       "      <td>RT @OccupyDemocrats: BREAKING NEWS: Hacker gro...</td>\n",
       "      <td>152766660</td>\n",
       "      <td>2022-02-27T23:47:48.000Z</td>\n",
       "      <td>[{'type': 'retweeted', 'id': '1498080651500785...</td>\n",
       "      <td>NaN</td>\n",
       "      <td>NaN</td>\n",
       "      <td>NaN</td>\n",
       "      <td>retweeted</td>\n",
       "      <td>en</td>\n",
       "    </tr>\n",
       "  </tbody>\n",
       "</table>\n",
       "<p>934 rows × 9 columns</p>\n",
       "</div>"
      ],
      "text/plain": [
       "                                                                  text  \\\n",
       "id                                                                       \n",
       "1501715377335775235  RT @stillgray: U.S. Under Secretary of State V...   \n",
       "1501734364664590338  @BHDonk1 Russia took Crimea after the U.S. fun...   \n",
       "1501715719205097472  RT @anneapplebaum: There is always a military ...   \n",
       "1501725096087588866  RT @RonFilipkowski: It’s Guilfoyle’s birthday,...   \n",
       "1501734648711245827  RT @EpicSerbian: Russians pre-empted Donbass a...   \n",
       "...                                                                ...   \n",
       "1498075055573676033  RT @ataraxie66: Etrange quand même, on trouve ...   \n",
       "1498075067812614144  @RadioFreeTom Maybe Putin is going through an ...   \n",
       "1498074904461205504  @Judmir3 Its fake, I don't know what this is b...   \n",
       "1498075030160293892  RT @FaroPeriodismo: #URGENTE nueva primicia en...   \n",
       "1498082471308627971  RT @OccupyDemocrats: BREAKING NEWS: Hacker gro...   \n",
       "\n",
       "                               author_id                created_at  \\\n",
       "id                                                                   \n",
       "1501715377335775235            115792183  2022-03-10T00:23:41.000Z   \n",
       "1501734364664590338  1376636130246860801  2022-03-10T01:39:08.000Z   \n",
       "1501715719205097472            285005616  2022-03-10T00:25:02.000Z   \n",
       "1501725096087588866           1948262269  2022-03-10T01:02:18.000Z   \n",
       "1501734648711245827            257097577  2022-03-10T01:40:15.000Z   \n",
       "...                                  ...                       ...   \n",
       "1498075055573676033           1135125324  2022-02-27T23:18:20.000Z   \n",
       "1498075067812614144           3798288154  2022-02-27T23:18:23.000Z   \n",
       "1498074904461205504  1370452383889772546  2022-02-27T23:17:44.000Z   \n",
       "1498075030160293892  1338598368474435588  2022-02-27T23:18:14.000Z   \n",
       "1498082471308627971            152766660  2022-02-27T23:47:48.000Z   \n",
       "\n",
       "                                                     referenced_tweets  \\\n",
       "id                                                                       \n",
       "1501715377335775235  [{'type': 'retweeted', 'id': '1501310103529541...   \n",
       "1501734364664590338  [{'type': 'replied_to', 'id': '150172868701149...   \n",
       "1501715719205097472  [{'type': 'retweeted', 'id': '1501700149332090...   \n",
       "1501725096087588866  [{'type': 'retweeted', 'id': '1501706894905585...   \n",
       "1501734648711245827  [{'type': 'retweeted', 'id': '1501580337993838...   \n",
       "...                                                                ...   \n",
       "1498075055573676033  [{'type': 'retweeted', 'id': '1498071752345276...   \n",
       "1498075067812614144  [{'type': 'replied_to', 'id': '149804628286630...   \n",
       "1498074904461205504  [{'type': 'replied_to', 'id': '149805059902325...   \n",
       "1498075030160293892  [{'type': 'retweeted', 'id': '1497966248382005...   \n",
       "1498082471308627971  [{'type': 'retweeted', 'id': '1498080651500785...   \n",
       "\n",
       "                                                   context_annotations  \\\n",
       "id                                                                       \n",
       "1501715377335775235                                                NaN   \n",
       "1501734364664590338                                                NaN   \n",
       "1501715719205097472                                                NaN   \n",
       "1501725096087588866  [{'domain': {'id': '10', 'name': 'Person', 'de...   \n",
       "1501734648711245827                                                NaN   \n",
       "...                                                                ...   \n",
       "1498075055573676033  [{'domain': {'id': '45', 'name': 'Brand Vertic...   \n",
       "1498075067812614144  [{'domain': {'id': '10', 'name': 'Person', 'de...   \n",
       "1498074904461205504                                                NaN   \n",
       "1498075030160293892                                                NaN   \n",
       "1498082471308627971                                                NaN   \n",
       "\n",
       "                    withheld  geo        type lang  \n",
       "id                                                  \n",
       "1501715377335775235      NaN  NaN   retweeted   en  \n",
       "1501734364664590338      NaN  NaN  replied_to   en  \n",
       "1501715719205097472      NaN  NaN   retweeted   en  \n",
       "1501725096087588866      NaN  NaN   retweeted   en  \n",
       "1501734648711245827      NaN  NaN   retweeted   en  \n",
       "...                      ...  ...         ...  ...  \n",
       "1498075055573676033      NaN  NaN   retweeted   fr  \n",
       "1498075067812614144      NaN  NaN  replied_to   en  \n",
       "1498074904461205504      NaN  NaN  replied_to   en  \n",
       "1498075030160293892      NaN  NaN   retweeted   es  \n",
       "1498082471308627971      NaN  NaN   retweeted   en  \n",
       "\n",
       "[934 rows x 9 columns]"
      ]
     },
     "execution_count": 5,
     "metadata": {},
     "output_type": "execute_result"
    }
   ],
   "source": [
    "df_all_tweets = pd.DataFrame.from_dict(all_tweets)\n",
    "df_all_tweets = df_all_tweets.transpose().set_index(\"id\")\n",
    "df_all_tweets[\"type\"] = df_all_tweets.apply(lambda row: get_type(row[\"referenced_tweets\"]), axis=1)\n",
    "df_all_tweets[\"lang\"] = df_all_tweets.apply(lambda row: get_lang(row[\"text\"]), axis=1)\n",
    "df_all_tweets"
   ]
  },
  {
   "cell_type": "code",
   "execution_count": 6,
   "id": "4d589850",
   "metadata": {
    "scrolled": true
   },
   "outputs": [
    {
     "data": {
      "text/html": [
       "<div>\n",
       "<style scoped>\n",
       "    .dataframe tbody tr th:only-of-type {\n",
       "        vertical-align: middle;\n",
       "    }\n",
       "\n",
       "    .dataframe tbody tr th {\n",
       "        vertical-align: top;\n",
       "    }\n",
       "\n",
       "    .dataframe thead th {\n",
       "        text-align: right;\n",
       "    }\n",
       "</style>\n",
       "<table border=\"1\" class=\"dataframe\">\n",
       "  <thead>\n",
       "    <tr style=\"text-align: right;\">\n",
       "      <th></th>\n",
       "      <th>text</th>\n",
       "      <th>author_id</th>\n",
       "      <th>created_at</th>\n",
       "      <th>referenced_tweets</th>\n",
       "      <th>context_annotations</th>\n",
       "      <th>withheld</th>\n",
       "      <th>geo</th>\n",
       "      <th>type</th>\n",
       "      <th>lang</th>\n",
       "    </tr>\n",
       "    <tr>\n",
       "      <th>id</th>\n",
       "      <th></th>\n",
       "      <th></th>\n",
       "      <th></th>\n",
       "      <th></th>\n",
       "      <th></th>\n",
       "      <th></th>\n",
       "      <th></th>\n",
       "      <th></th>\n",
       "      <th></th>\n",
       "    </tr>\n",
       "  </thead>\n",
       "  <tbody>\n",
       "    <tr>\n",
       "      <th>1506759271027036167</th>\n",
       "      <td>As many as 15,000 Russian troops have been kil...</td>\n",
       "      <td>1490822650905694213</td>\n",
       "      <td>2022-03-23T22:26:19.000Z</td>\n",
       "      <td>NaN</td>\n",
       "      <td>[{'domain': {'id': '88', 'name': 'Political Bo...</td>\n",
       "      <td>NaN</td>\n",
       "      <td>NaN</td>\n",
       "      <td>tweet</td>\n",
       "      <td>en</td>\n",
       "    </tr>\n",
       "    <tr>\n",
       "      <th>1506196506595975169</th>\n",
       "      <td>Horrible what happened to @navalny today. We a...</td>\n",
       "      <td>1209233484616781834</td>\n",
       "      <td>2022-03-22T09:10:05.000Z</td>\n",
       "      <td>NaN</td>\n",
       "      <td>[{'domain': {'id': '10', 'name': 'Person', 'de...</td>\n",
       "      <td>NaN</td>\n",
       "      <td>NaN</td>\n",
       "      <td>tweet</td>\n",
       "      <td>en</td>\n",
       "    </tr>\n",
       "    <tr>\n",
       "      <th>1506178370748436481</th>\n",
       "      <td>An elite Ukrainian drone unit exploits the cov...</td>\n",
       "      <td>72942712</td>\n",
       "      <td>2022-03-22T07:58:01.000Z</td>\n",
       "      <td>NaN</td>\n",
       "      <td>NaN</td>\n",
       "      <td>NaN</td>\n",
       "      <td>NaN</td>\n",
       "      <td>tweet</td>\n",
       "      <td>en</td>\n",
       "    </tr>\n",
       "    <tr>\n",
       "      <th>1499601106271363077</th>\n",
       "      <td>STEELWORKS OTH1 /// DJ JETLAGGED /// PRIME NUM...</td>\n",
       "      <td>1477466889697873920</td>\n",
       "      <td>2022-03-04T04:22:19.000Z</td>\n",
       "      <td>NaN</td>\n",
       "      <td>NaN</td>\n",
       "      <td>NaN</td>\n",
       "      <td>NaN</td>\n",
       "      <td>tweet</td>\n",
       "      <td>en</td>\n",
       "    </tr>\n",
       "    <tr>\n",
       "      <th>1502466077430800387</th>\n",
       "      <td>Coming from the guy who is trying to rule the ...</td>\n",
       "      <td>559521715</td>\n",
       "      <td>2022-03-12T02:06:41.000Z</td>\n",
       "      <td>NaN</td>\n",
       "      <td>NaN</td>\n",
       "      <td>NaN</td>\n",
       "      <td>NaN</td>\n",
       "      <td>tweet</td>\n",
       "      <td>en</td>\n",
       "    </tr>\n",
       "    <tr>\n",
       "      <th>1501359087501692932</th>\n",
       "      <td>WSJ News Exclusive | Saudi, Emirati Leaders De...</td>\n",
       "      <td>2877662112</td>\n",
       "      <td>2022-03-09T00:47:55.000Z</td>\n",
       "      <td>NaN</td>\n",
       "      <td>[{'domain': {'id': '10', 'name': 'Person', 'de...</td>\n",
       "      <td>NaN</td>\n",
       "      <td>NaN</td>\n",
       "      <td>tweet</td>\n",
       "      <td>en</td>\n",
       "    </tr>\n",
       "    <tr>\n",
       "      <th>1509087938461990913</th>\n",
       "      <td>Russia's foreign minister has arrived in China...</td>\n",
       "      <td>1470425501504204803</td>\n",
       "      <td>2022-03-30T08:39:36.000Z</td>\n",
       "      <td>NaN</td>\n",
       "      <td>NaN</td>\n",
       "      <td>NaN</td>\n",
       "      <td>NaN</td>\n",
       "      <td>tweet</td>\n",
       "      <td>en</td>\n",
       "    </tr>\n",
       "    <tr>\n",
       "      <th>1506782851081150464</th>\n",
       "      <td>Detained American basketball player Brittney G...</td>\n",
       "      <td>22240612</td>\n",
       "      <td>2022-03-24T00:00:01.000Z</td>\n",
       "      <td>NaN</td>\n",
       "      <td>[{'domain': {'id': '10', 'name': 'Person', 'de...</td>\n",
       "      <td>NaN</td>\n",
       "      <td>NaN</td>\n",
       "      <td>tweet</td>\n",
       "      <td>en</td>\n",
       "    </tr>\n",
       "    <tr>\n",
       "      <th>1506795268389449732</th>\n",
       "      <td>Marketing department here at #Ripple #XRP #BAY...</td>\n",
       "      <td>1176312831806853120</td>\n",
       "      <td>2022-03-24T00:49:21.000Z</td>\n",
       "      <td>NaN</td>\n",
       "      <td>[{'domain': {'id': '45', 'name': 'Brand Vertic...</td>\n",
       "      <td>NaN</td>\n",
       "      <td>NaN</td>\n",
       "      <td>tweet</td>\n",
       "      <td>en</td>\n",
       "    </tr>\n",
       "    <tr>\n",
       "      <th>1506782887282098179</th>\n",
       "      <td>“Kirill is here as a warrior of Christ,” said ...</td>\n",
       "      <td>54861430</td>\n",
       "      <td>2022-03-24T00:00:09.000Z</td>\n",
       "      <td>NaN</td>\n",
       "      <td>NaN</td>\n",
       "      <td>NaN</td>\n",
       "      <td>NaN</td>\n",
       "      <td>tweet</td>\n",
       "      <td>en</td>\n",
       "    </tr>\n",
       "    <tr>\n",
       "      <th>1498812334822862850</th>\n",
       "      <td>I want to believe sanctions will be enough. Go...</td>\n",
       "      <td>339435210</td>\n",
       "      <td>2022-03-02T00:08:01.000Z</td>\n",
       "      <td>NaN</td>\n",
       "      <td>[{'domain': {'id': '10', 'name': 'Person', 'de...</td>\n",
       "      <td>NaN</td>\n",
       "      <td>NaN</td>\n",
       "      <td>tweet</td>\n",
       "      <td>en</td>\n",
       "    </tr>\n",
       "    <tr>\n",
       "      <th>1499625688462069763</th>\n",
       "      <td>We're stunned, as you are. What are your curre...</td>\n",
       "      <td>1440205262783070213</td>\n",
       "      <td>2022-03-04T06:00:00.000Z</td>\n",
       "      <td>NaN</td>\n",
       "      <td>NaN</td>\n",
       "      <td>NaN</td>\n",
       "      <td>NaN</td>\n",
       "      <td>tweet</td>\n",
       "      <td>en</td>\n",
       "    </tr>\n",
       "    <tr>\n",
       "      <th>1503182989416611843</th>\n",
       "      <td>I ordered a moscow mule last night and this gu...</td>\n",
       "      <td>2568405272</td>\n",
       "      <td>2022-03-14T01:35:27.000Z</td>\n",
       "      <td>NaN</td>\n",
       "      <td>[{'domain': {'id': '30', 'name': 'Entities [En...</td>\n",
       "      <td>NaN</td>\n",
       "      <td>NaN</td>\n",
       "      <td>tweet</td>\n",
       "      <td>en</td>\n",
       "    </tr>\n",
       "    <tr>\n",
       "      <th>1503166678162886662</th>\n",
       "      <td>While You Were Distracted With #Ukraine, #Gove...</td>\n",
       "      <td>1278163129881354240</td>\n",
       "      <td>2022-03-14T00:30:38.000Z</td>\n",
       "      <td>NaN</td>\n",
       "      <td>[{'domain': {'id': '123', 'name': 'Ongoing New...</td>\n",
       "      <td>NaN</td>\n",
       "      <td>NaN</td>\n",
       "      <td>tweet</td>\n",
       "      <td>en</td>\n",
       "    </tr>\n",
       "    <tr>\n",
       "      <th>1503174587869138944</th>\n",
       "      <td>You know, I feel bad for Russian people that a...</td>\n",
       "      <td>1100444162443235328</td>\n",
       "      <td>2022-03-14T01:02:04.000Z</td>\n",
       "      <td>NaN</td>\n",
       "      <td>[{'domain': {'id': '10', 'name': 'Person', 'de...</td>\n",
       "      <td>NaN</td>\n",
       "      <td>NaN</td>\n",
       "      <td>tweet</td>\n",
       "      <td>en</td>\n",
       "    </tr>\n",
       "    <tr>\n",
       "      <th>1498549338967986177</th>\n",
       "      <td>Fascinating interview with Fiona Hill on Putin...</td>\n",
       "      <td>1286666086121738242</td>\n",
       "      <td>2022-03-01T06:42:58.000Z</td>\n",
       "      <td>NaN</td>\n",
       "      <td>[{'domain': {'id': '10', 'name': 'Person', 'de...</td>\n",
       "      <td>NaN</td>\n",
       "      <td>NaN</td>\n",
       "      <td>tweet</td>\n",
       "      <td>en</td>\n",
       "    </tr>\n",
       "    <tr>\n",
       "      <th>1500217170143457291</th>\n",
       "      <td>The mentality that discriminates innocent peop...</td>\n",
       "      <td>99623703</td>\n",
       "      <td>2022-03-05T21:10:20.000Z</td>\n",
       "      <td>NaN</td>\n",
       "      <td>[{'domain': {'id': '88', 'name': 'Political Bo...</td>\n",
       "      <td>NaN</td>\n",
       "      <td>NaN</td>\n",
       "      <td>tweet</td>\n",
       "      <td>en</td>\n",
       "    </tr>\n",
       "    <tr>\n",
       "      <th>1509136664056119296</th>\n",
       "      <td>Can Montana expect any Ukrainian refugees?  ht...</td>\n",
       "      <td>989533964741169153</td>\n",
       "      <td>2022-03-30T11:53:13.000Z</td>\n",
       "      <td>NaN</td>\n",
       "      <td>NaN</td>\n",
       "      <td>NaN</td>\n",
       "      <td>NaN</td>\n",
       "      <td>tweet</td>\n",
       "      <td>en</td>\n",
       "    </tr>\n",
       "    <tr>\n",
       "      <th>1509136552882024451</th>\n",
       "      <td>🇺🇦Head of the Nikolaev Regional State Administ...</td>\n",
       "      <td>1497262491436519436</td>\n",
       "      <td>2022-03-30T11:52:47.000Z</td>\n",
       "      <td>NaN</td>\n",
       "      <td>NaN</td>\n",
       "      <td>NaN</td>\n",
       "      <td>NaN</td>\n",
       "      <td>tweet</td>\n",
       "      <td>en</td>\n",
       "    </tr>\n",
       "    <tr>\n",
       "      <th>1499897367352467456</th>\n",
       "      <td>https://t.co/pEoMk1ROqT NATO allies rejected U...</td>\n",
       "      <td>379297386</td>\n",
       "      <td>2022-03-04T23:59:33.000Z</td>\n",
       "      <td>NaN</td>\n",
       "      <td>[{'domain': {'id': '88', 'name': 'Political Bo...</td>\n",
       "      <td>NaN</td>\n",
       "      <td>NaN</td>\n",
       "      <td>tweet</td>\n",
       "      <td>en</td>\n",
       "    </tr>\n",
       "    <tr>\n",
       "      <th>1502034986358255617</th>\n",
       "      <td>Anastasiades: Turkey is undermining sanctions ...</td>\n",
       "      <td>1055534008921153536</td>\n",
       "      <td>2022-03-10T21:33:41.000Z</td>\n",
       "      <td>NaN</td>\n",
       "      <td>NaN</td>\n",
       "      <td>NaN</td>\n",
       "      <td>NaN</td>\n",
       "      <td>tweet</td>\n",
       "      <td>en</td>\n",
       "    </tr>\n",
       "    <tr>\n",
       "      <th>1506890486874783744</th>\n",
       "      <td>https://t.co/w7VQs4aFbf Apparently Sweden is n...</td>\n",
       "      <td>1055183113511489544</td>\n",
       "      <td>2022-03-24T07:07:43.000Z</td>\n",
       "      <td>NaN</td>\n",
       "      <td>NaN</td>\n",
       "      <td>NaN</td>\n",
       "      <td>NaN</td>\n",
       "      <td>tweet</td>\n",
       "      <td>en</td>\n",
       "    </tr>\n",
       "    <tr>\n",
       "      <th>1509676096404570112</th>\n",
       "      <td>\"China opposes calls to remove Russia from gro...</td>\n",
       "      <td>1004022175</td>\n",
       "      <td>2022-03-31T23:36:44.000Z</td>\n",
       "      <td>NaN</td>\n",
       "      <td>NaN</td>\n",
       "      <td>NaN</td>\n",
       "      <td>NaN</td>\n",
       "      <td>tweet</td>\n",
       "      <td>en</td>\n",
       "    </tr>\n",
       "    <tr>\n",
       "      <th>1509597773955571718</th>\n",
       "      <td>Has Putin's invasion hurt the European Left? @...</td>\n",
       "      <td>2499775770</td>\n",
       "      <td>2022-03-31T18:25:30.000Z</td>\n",
       "      <td>NaN</td>\n",
       "      <td>[{'domain': {'id': '10', 'name': 'Person', 'de...</td>\n",
       "      <td>NaN</td>\n",
       "      <td>NaN</td>\n",
       "      <td>tweet</td>\n",
       "      <td>en</td>\n",
       "    </tr>\n",
       "    <tr>\n",
       "      <th>1509597697803702274</th>\n",
       "      <td>What an account fron Nadia about her beloved c...</td>\n",
       "      <td>231520553</td>\n",
       "      <td>2022-03-31T18:25:12.000Z</td>\n",
       "      <td>NaN</td>\n",
       "      <td>[{'domain': {'id': '3', 'name': 'TV Shows', 'd...</td>\n",
       "      <td>NaN</td>\n",
       "      <td>NaN</td>\n",
       "      <td>tweet</td>\n",
       "      <td>en</td>\n",
       "    </tr>\n",
       "    <tr>\n",
       "      <th>1499130681561079818</th>\n",
       "      <td>#Ukraine Thank goodness for the #EU, otherwise...</td>\n",
       "      <td>241959522</td>\n",
       "      <td>2022-03-02T21:13:01.000Z</td>\n",
       "      <td>NaN</td>\n",
       "      <td>NaN</td>\n",
       "      <td>NaN</td>\n",
       "      <td>NaN</td>\n",
       "      <td>tweet</td>\n",
       "      <td>en</td>\n",
       "    </tr>\n",
       "    <tr>\n",
       "      <th>1504031077542813702</th>\n",
       "      <td>@tedcruz \\nYour best contribution would be to ...</td>\n",
       "      <td>817707327537168386</td>\n",
       "      <td>2022-03-16T09:45:27.000Z</td>\n",
       "      <td>NaN</td>\n",
       "      <td>[{'domain': {'id': '10', 'name': 'Person', 'de...</td>\n",
       "      <td>NaN</td>\n",
       "      <td>NaN</td>\n",
       "      <td>tweet</td>\n",
       "      <td>en</td>\n",
       "    </tr>\n",
       "    <tr>\n",
       "      <th>1504050507538735106</th>\n",
       "      <td>⚡️In Chernihiv, in one of the residential dist...</td>\n",
       "      <td>1499733416874594307</td>\n",
       "      <td>2022-03-16T11:02:39.000Z</td>\n",
       "      <td>NaN</td>\n",
       "      <td>NaN</td>\n",
       "      <td>NaN</td>\n",
       "      <td>NaN</td>\n",
       "      <td>tweet</td>\n",
       "      <td>en</td>\n",
       "    </tr>\n",
       "    <tr>\n",
       "      <th>1507727214896459779</th>\n",
       "      <td>US Army veteran who has volunteered to fight i...</td>\n",
       "      <td>60342590</td>\n",
       "      <td>2022-03-26T14:32:34.000Z</td>\n",
       "      <td>NaN</td>\n",
       "      <td>[{'domain': {'id': '10', 'name': 'Person', 'de...</td>\n",
       "      <td>NaN</td>\n",
       "      <td>NaN</td>\n",
       "      <td>tweet</td>\n",
       "      <td>en</td>\n",
       "    </tr>\n",
       "    <tr>\n",
       "      <th>1507765361692790791</th>\n",
       "      <td>The 700 million dollar yacht is not #Putin's. ...</td>\n",
       "      <td>1481086044233732098</td>\n",
       "      <td>2022-03-26T17:04:09.000Z</td>\n",
       "      <td>NaN</td>\n",
       "      <td>[{'domain': {'id': '10', 'name': 'Person', 'de...</td>\n",
       "      <td>NaN</td>\n",
       "      <td>NaN</td>\n",
       "      <td>tweet</td>\n",
       "      <td>en</td>\n",
       "    </tr>\n",
       "    <tr>\n",
       "      <th>1509676565227278337</th>\n",
       "      <td>Watch: Russian state TV host calls for reinsta...</td>\n",
       "      <td>3157146710</td>\n",
       "      <td>2022-03-31T23:38:36.000Z</td>\n",
       "      <td>NaN</td>\n",
       "      <td>[{'domain': {'id': '10', 'name': 'Person', 'de...</td>\n",
       "      <td>NaN</td>\n",
       "      <td>NaN</td>\n",
       "      <td>tweet</td>\n",
       "      <td>en</td>\n",
       "    </tr>\n",
       "    <tr>\n",
       "      <th>1498793758057545739</th>\n",
       "      <td>Apple pauses all product sales in Russia, stop...</td>\n",
       "      <td>21729540</td>\n",
       "      <td>2022-03-01T22:54:12.000Z</td>\n",
       "      <td>NaN</td>\n",
       "      <td>[{'domain': {'id': '47', 'name': 'Brand', 'des...</td>\n",
       "      <td>NaN</td>\n",
       "      <td>NaN</td>\n",
       "      <td>tweet</td>\n",
       "      <td>en</td>\n",
       "    </tr>\n",
       "    <tr>\n",
       "      <th>1503093023990767617</th>\n",
       "      <td>The logistics of this “Ukrainian war“ seem to ...</td>\n",
       "      <td>2312978781</td>\n",
       "      <td>2022-03-13T19:37:57.000Z</td>\n",
       "      <td>NaN</td>\n",
       "      <td>NaN</td>\n",
       "      <td>NaN</td>\n",
       "      <td>NaN</td>\n",
       "      <td>tweet</td>\n",
       "      <td>en</td>\n",
       "    </tr>\n",
       "    <tr>\n",
       "      <th>1499984570942427139</th>\n",
       "      <td>Samsung suspends supplies to Russia due to the...</td>\n",
       "      <td>1471106824791228419</td>\n",
       "      <td>2022-03-05T05:46:04.000Z</td>\n",
       "      <td>NaN</td>\n",
       "      <td>[{'domain': {'id': '47', 'name': 'Brand', 'des...</td>\n",
       "      <td>NaN</td>\n",
       "      <td>NaN</td>\n",
       "      <td>tweet</td>\n",
       "      <td>en</td>\n",
       "    </tr>\n",
       "    <tr>\n",
       "      <th>1499994538299072512</th>\n",
       "      <td>Oh well, now Twitter is officially blocked in ...</td>\n",
       "      <td>1183863968017850368</td>\n",
       "      <td>2022-03-05T06:25:41.000Z</td>\n",
       "      <td>NaN</td>\n",
       "      <td>[{'domain': {'id': '46', 'name': 'Brand Catego...</td>\n",
       "      <td>NaN</td>\n",
       "      <td>NaN</td>\n",
       "      <td>tweet</td>\n",
       "      <td>en</td>\n",
       "    </tr>\n",
       "    <tr>\n",
       "      <th>1498719266434023428</th>\n",
       "      <td>Yahoo News: Americans, Canadians answer Ukrain...</td>\n",
       "      <td>259564527</td>\n",
       "      <td>2022-03-01T17:58:12.000Z</td>\n",
       "      <td>NaN</td>\n",
       "      <td>[{'domain': {'id': '47', 'name': 'Brand', 'des...</td>\n",
       "      <td>NaN</td>\n",
       "      <td>NaN</td>\n",
       "      <td>tweet</td>\n",
       "      <td>en</td>\n",
       "    </tr>\n",
       "    <tr>\n",
       "      <th>1507323299034026003</th>\n",
       "      <td>Mariupol is in Russian hands. https://t.co/4HZ...</td>\n",
       "      <td>1374370110085898243</td>\n",
       "      <td>2022-03-25T11:47:33.000Z</td>\n",
       "      <td>NaN</td>\n",
       "      <td>NaN</td>\n",
       "      <td>NaN</td>\n",
       "      <td>NaN</td>\n",
       "      <td>tweet</td>\n",
       "      <td>en</td>\n",
       "    </tr>\n",
       "    <tr>\n",
       "      <th>1502421676687953923</th>\n",
       "      <td>Well, at least Biden talks to Zelensky encoura...</td>\n",
       "      <td>1343371332</td>\n",
       "      <td>2022-03-11T23:10:16.000Z</td>\n",
       "      <td>NaN</td>\n",
       "      <td>[{'domain': {'id': '10', 'name': 'Person', 'de...</td>\n",
       "      <td>NaN</td>\n",
       "      <td>NaN</td>\n",
       "      <td>tweet</td>\n",
       "      <td>en</td>\n",
       "    </tr>\n",
       "    <tr>\n",
       "      <th>1502421450904457219</th>\n",
       "      <td>My senator, Marsha Blackburn, voted 'NO' on ai...</td>\n",
       "      <td>823329820780228614</td>\n",
       "      <td>2022-03-11T23:09:22.000Z</td>\n",
       "      <td>NaN</td>\n",
       "      <td>[{'domain': {'id': '10', 'name': 'Person', 'de...</td>\n",
       "      <td>NaN</td>\n",
       "      <td>NaN</td>\n",
       "      <td>tweet</td>\n",
       "      <td>en</td>\n",
       "    </tr>\n",
       "    <tr>\n",
       "      <th>1507427205139283969</th>\n",
       "      <td>Today, 25th March, at 4.30pm, Russian occupier...</td>\n",
       "      <td>1498704345264795650</td>\n",
       "      <td>2022-03-25T18:40:27.000Z</td>\n",
       "      <td>NaN</td>\n",
       "      <td>NaN</td>\n",
       "      <td>NaN</td>\n",
       "      <td>NaN</td>\n",
       "      <td>tweet</td>\n",
       "      <td>en</td>\n",
       "    </tr>\n",
       "    <tr>\n",
       "      <th>1501242787315924994</th>\n",
       "      <td>BREAKING\\n\\nThe US BANS RUSSIAN OIL, GAS AND C...</td>\n",
       "      <td>1379177895797481473</td>\n",
       "      <td>2022-03-08T17:05:46.000Z</td>\n",
       "      <td>NaN</td>\n",
       "      <td>NaN</td>\n",
       "      <td>NaN</td>\n",
       "      <td>NaN</td>\n",
       "      <td>tweet</td>\n",
       "      <td>en</td>\n",
       "    </tr>\n",
       "    <tr>\n",
       "      <th>1501215537220800514</th>\n",
       "      <td>Would absolutely hate to live in russia</td>\n",
       "      <td>557983678</td>\n",
       "      <td>2022-03-08T15:17:29.000Z</td>\n",
       "      <td>NaN</td>\n",
       "      <td>NaN</td>\n",
       "      <td>NaN</td>\n",
       "      <td>NaN</td>\n",
       "      <td>tweet</td>\n",
       "      <td>en</td>\n",
       "    </tr>\n",
       "    <tr>\n",
       "      <th>1501173619946364928</th>\n",
       "      <td>Shared with @AymanM the challenge I had trying...</td>\n",
       "      <td>1622864016</td>\n",
       "      <td>2022-03-08T12:30:56.000Z</td>\n",
       "      <td>NaN</td>\n",
       "      <td>[{'domain': {'id': '10', 'name': 'Person', 'de...</td>\n",
       "      <td>NaN</td>\n",
       "      <td>NaN</td>\n",
       "      <td>tweet</td>\n",
       "      <td>en</td>\n",
       "    </tr>\n",
       "    <tr>\n",
       "      <th>1507867250585264133</th>\n",
       "      <td>FCC says Russian anti-virus firm Kaspersky pos...</td>\n",
       "      <td>16666806</td>\n",
       "      <td>2022-03-26T23:49:02.000Z</td>\n",
       "      <td>NaN</td>\n",
       "      <td>[{'domain': {'id': '88', 'name': 'Political Bo...</td>\n",
       "      <td>NaN</td>\n",
       "      <td>NaN</td>\n",
       "      <td>tweet</td>\n",
       "      <td>en</td>\n",
       "    </tr>\n",
       "    <tr>\n",
       "      <th>1503359505060487168</th>\n",
       "      <td>6366 Sanctions are Imposed on russia, yet Ukra...</td>\n",
       "      <td>1497906006478757891</td>\n",
       "      <td>2022-03-14T13:16:51.000Z</td>\n",
       "      <td>NaN</td>\n",
       "      <td>NaN</td>\n",
       "      <td>NaN</td>\n",
       "      <td>NaN</td>\n",
       "      <td>tweet</td>\n",
       "      <td>en</td>\n",
       "    </tr>\n",
       "    <tr>\n",
       "      <th>1501762900696117249</th>\n",
       "      <td>To, Joy Reid (MSNBC), Nikole Hannah-Jones (161...</td>\n",
       "      <td>708099250467377152</td>\n",
       "      <td>2022-03-10T03:32:31.000Z</td>\n",
       "      <td>NaN</td>\n",
       "      <td>[{'domain': {'id': '10', 'name': 'Person', 'de...</td>\n",
       "      <td>NaN</td>\n",
       "      <td>NaN</td>\n",
       "      <td>tweet</td>\n",
       "      <td>en</td>\n",
       "    </tr>\n",
       "    <tr>\n",
       "      <th>1509331356702150664</th>\n",
       "      <td>Putin doesn’t have an endgame. All #Bidenomics</td>\n",
       "      <td>1504006840291627015</td>\n",
       "      <td>2022-03-31T00:46:52.000Z</td>\n",
       "      <td>NaN</td>\n",
       "      <td>[{'domain': {'id': '10', 'name': 'Person', 'de...</td>\n",
       "      <td>NaN</td>\n",
       "      <td>NaN</td>\n",
       "      <td>tweet</td>\n",
       "      <td>en</td>\n",
       "    </tr>\n",
       "    <tr>\n",
       "      <th>1500161826369286148</th>\n",
       "      <td>A love letter to the business community for st...</td>\n",
       "      <td>15750903</td>\n",
       "      <td>2022-03-05T17:30:25.000Z</td>\n",
       "      <td>NaN</td>\n",
       "      <td>NaN</td>\n",
       "      <td>NaN</td>\n",
       "      <td>NaN</td>\n",
       "      <td>tweet</td>\n",
       "      <td>en</td>\n",
       "    </tr>\n",
       "    <tr>\n",
       "      <th>1508236563217408001</th>\n",
       "      <td>Russia-Ukraine War Updates: Day 32 of Putin’s ...</td>\n",
       "      <td>838321345570156545</td>\n",
       "      <td>2022-03-28T00:16:33.000Z</td>\n",
       "      <td>NaN</td>\n",
       "      <td>[{'domain': {'id': '10', 'name': 'Person', 'de...</td>\n",
       "      <td>NaN</td>\n",
       "      <td>NaN</td>\n",
       "      <td>tweet</td>\n",
       "      <td>en</td>\n",
       "    </tr>\n",
       "    <tr>\n",
       "      <th>1501887477413339139</th>\n",
       "      <td>Russian former F1 driver Nikita Mazepin and fa...</td>\n",
       "      <td>14770715</td>\n",
       "      <td>2022-03-10T11:47:32.000Z</td>\n",
       "      <td>NaN</td>\n",
       "      <td>[{'domain': {'id': '3', 'name': 'TV Shows', 'd...</td>\n",
       "      <td>NaN</td>\n",
       "      <td>NaN</td>\n",
       "      <td>tweet</td>\n",
       "      <td>en</td>\n",
       "    </tr>\n",
       "    <tr>\n",
       "      <th>1499355233268420613</th>\n",
       "      <td>LET PRO PEACE HACKERS FREEZE ALL BANK ACCOUNTS...</td>\n",
       "      <td>960379844788916224</td>\n",
       "      <td>2022-03-03T12:05:18.000Z</td>\n",
       "      <td>NaN</td>\n",
       "      <td>[{'domain': {'id': '46', 'name': 'Brand Catego...</td>\n",
       "      <td>NaN</td>\n",
       "      <td>NaN</td>\n",
       "      <td>tweet</td>\n",
       "      <td>en</td>\n",
       "    </tr>\n",
       "    <tr>\n",
       "      <th>1508225701316595717</th>\n",
       "      <td>He just can't/won't stop sucking up to putin, ...</td>\n",
       "      <td>1328264828</td>\n",
       "      <td>2022-03-27T23:33:23.000Z</td>\n",
       "      <td>NaN</td>\n",
       "      <td>[{'domain': {'id': '10', 'name': 'Person', 'de...</td>\n",
       "      <td>NaN</td>\n",
       "      <td>{'place_id': 'bd3d2074a33fbd06'}</td>\n",
       "      <td>tweet</td>\n",
       "      <td>en</td>\n",
       "    </tr>\n",
       "    <tr>\n",
       "      <th>1503307484693504000</th>\n",
       "      <td>The cowardice of the #EU and #NATO leaders?To ...</td>\n",
       "      <td>533049923</td>\n",
       "      <td>2022-03-14T09:50:09.000Z</td>\n",
       "      <td>NaN</td>\n",
       "      <td>[{'domain': {'id': '88', 'name': 'Political Bo...</td>\n",
       "      <td>NaN</td>\n",
       "      <td>NaN</td>\n",
       "      <td>tweet</td>\n",
       "      <td>en</td>\n",
       "    </tr>\n",
       "    <tr>\n",
       "      <th>1507951797461159940</th>\n",
       "      <td>US Dollar Could EXPLODE After Putin Demands Co...</td>\n",
       "      <td>560555551</td>\n",
       "      <td>2022-03-27T05:24:59.000Z</td>\n",
       "      <td>NaN</td>\n",
       "      <td>[{'domain': {'id': '10', 'name': 'Person', 'de...</td>\n",
       "      <td>NaN</td>\n",
       "      <td>NaN</td>\n",
       "      <td>tweet</td>\n",
       "      <td>en</td>\n",
       "    </tr>\n",
       "    <tr>\n",
       "      <th>1501008698918981635</th>\n",
       "      <td>Levin: What Does Ukraine/Russia Have To Do Wit...</td>\n",
       "      <td>152072446</td>\n",
       "      <td>2022-03-08T01:35:35.000Z</td>\n",
       "      <td>NaN</td>\n",
       "      <td>NaN</td>\n",
       "      <td>NaN</td>\n",
       "      <td>NaN</td>\n",
       "      <td>tweet</td>\n",
       "      <td>en</td>\n",
       "    </tr>\n",
       "    <tr>\n",
       "      <th>1509770950086119432</th>\n",
       "      <td>‘My Camera Is My Shield’: A Ukrainian Photojou...</td>\n",
       "      <td>259329309</td>\n",
       "      <td>2022-04-01T05:53:39.000Z</td>\n",
       "      <td>NaN</td>\n",
       "      <td>NaN</td>\n",
       "      <td>NaN</td>\n",
       "      <td>NaN</td>\n",
       "      <td>tweet</td>\n",
       "      <td>en</td>\n",
       "    </tr>\n",
       "    <tr>\n",
       "      <th>1498440123079294976</th>\n",
       "      <td>“Russia starting a war with Ukraine, see the e...</td>\n",
       "      <td>4813840400</td>\n",
       "      <td>2022-02-28T23:28:59.000Z</td>\n",
       "      <td>NaN</td>\n",
       "      <td>NaN</td>\n",
       "      <td>NaN</td>\n",
       "      <td>NaN</td>\n",
       "      <td>tweet</td>\n",
       "      <td>en</td>\n",
       "    </tr>\n",
       "    <tr>\n",
       "      <th>1503158258193686529</th>\n",
       "      <td>You’ve Not Been Told This About Russia https:/...</td>\n",
       "      <td>1461544800050577409</td>\n",
       "      <td>2022-03-13T23:57:10.000Z</td>\n",
       "      <td>NaN</td>\n",
       "      <td>NaN</td>\n",
       "      <td>NaN</td>\n",
       "      <td>NaN</td>\n",
       "      <td>tweet</td>\n",
       "      <td>en</td>\n",
       "    </tr>\n",
       "  </tbody>\n",
       "</table>\n",
       "</div>"
      ],
      "text/plain": [
       "                                                                  text  \\\n",
       "id                                                                       \n",
       "1506759271027036167  As many as 15,000 Russian troops have been kil...   \n",
       "1506196506595975169  Horrible what happened to @navalny today. We a...   \n",
       "1506178370748436481  An elite Ukrainian drone unit exploits the cov...   \n",
       "1499601106271363077  STEELWORKS OTH1 /// DJ JETLAGGED /// PRIME NUM...   \n",
       "1502466077430800387  Coming from the guy who is trying to rule the ...   \n",
       "1501359087501692932  WSJ News Exclusive | Saudi, Emirati Leaders De...   \n",
       "1509087938461990913  Russia's foreign minister has arrived in China...   \n",
       "1506782851081150464  Detained American basketball player Brittney G...   \n",
       "1506795268389449732  Marketing department here at #Ripple #XRP #BAY...   \n",
       "1506782887282098179  “Kirill is here as a warrior of Christ,” said ...   \n",
       "1498812334822862850  I want to believe sanctions will be enough. Go...   \n",
       "1499625688462069763  We're stunned, as you are. What are your curre...   \n",
       "1503182989416611843  I ordered a moscow mule last night and this gu...   \n",
       "1503166678162886662  While You Were Distracted With #Ukraine, #Gove...   \n",
       "1503174587869138944  You know, I feel bad for Russian people that a...   \n",
       "1498549338967986177  Fascinating interview with Fiona Hill on Putin...   \n",
       "1500217170143457291  The mentality that discriminates innocent peop...   \n",
       "1509136664056119296  Can Montana expect any Ukrainian refugees?  ht...   \n",
       "1509136552882024451  🇺🇦Head of the Nikolaev Regional State Administ...   \n",
       "1499897367352467456  https://t.co/pEoMk1ROqT NATO allies rejected U...   \n",
       "1502034986358255617  Anastasiades: Turkey is undermining sanctions ...   \n",
       "1506890486874783744  https://t.co/w7VQs4aFbf Apparently Sweden is n...   \n",
       "1509676096404570112  \"China opposes calls to remove Russia from gro...   \n",
       "1509597773955571718  Has Putin's invasion hurt the European Left? @...   \n",
       "1509597697803702274  What an account fron Nadia about her beloved c...   \n",
       "1499130681561079818  #Ukraine Thank goodness for the #EU, otherwise...   \n",
       "1504031077542813702  @tedcruz \\nYour best contribution would be to ...   \n",
       "1504050507538735106  ⚡️In Chernihiv, in one of the residential dist...   \n",
       "1507727214896459779  US Army veteran who has volunteered to fight i...   \n",
       "1507765361692790791  The 700 million dollar yacht is not #Putin's. ...   \n",
       "1509676565227278337  Watch: Russian state TV host calls for reinsta...   \n",
       "1498793758057545739  Apple pauses all product sales in Russia, stop...   \n",
       "1503093023990767617  The logistics of this “Ukrainian war“ seem to ...   \n",
       "1499984570942427139  Samsung suspends supplies to Russia due to the...   \n",
       "1499994538299072512  Oh well, now Twitter is officially blocked in ...   \n",
       "1498719266434023428  Yahoo News: Americans, Canadians answer Ukrain...   \n",
       "1507323299034026003  Mariupol is in Russian hands. https://t.co/4HZ...   \n",
       "1502421676687953923  Well, at least Biden talks to Zelensky encoura...   \n",
       "1502421450904457219  My senator, Marsha Blackburn, voted 'NO' on ai...   \n",
       "1507427205139283969  Today, 25th March, at 4.30pm, Russian occupier...   \n",
       "1501242787315924994  BREAKING\\n\\nThe US BANS RUSSIAN OIL, GAS AND C...   \n",
       "1501215537220800514            Would absolutely hate to live in russia   \n",
       "1501173619946364928  Shared with @AymanM the challenge I had trying...   \n",
       "1507867250585264133  FCC says Russian anti-virus firm Kaspersky pos...   \n",
       "1503359505060487168  6366 Sanctions are Imposed on russia, yet Ukra...   \n",
       "1501762900696117249  To, Joy Reid (MSNBC), Nikole Hannah-Jones (161...   \n",
       "1509331356702150664     Putin doesn’t have an endgame. All #Bidenomics   \n",
       "1500161826369286148  A love letter to the business community for st...   \n",
       "1508236563217408001  Russia-Ukraine War Updates: Day 32 of Putin’s ...   \n",
       "1501887477413339139  Russian former F1 driver Nikita Mazepin and fa...   \n",
       "1499355233268420613  LET PRO PEACE HACKERS FREEZE ALL BANK ACCOUNTS...   \n",
       "1508225701316595717  He just can't/won't stop sucking up to putin, ...   \n",
       "1503307484693504000  The cowardice of the #EU and #NATO leaders?To ...   \n",
       "1507951797461159940  US Dollar Could EXPLODE After Putin Demands Co...   \n",
       "1501008698918981635  Levin: What Does Ukraine/Russia Have To Do Wit...   \n",
       "1509770950086119432  ‘My Camera Is My Shield’: A Ukrainian Photojou...   \n",
       "1498440123079294976  “Russia starting a war with Ukraine, see the e...   \n",
       "1503158258193686529  You’ve Not Been Told This About Russia https:/...   \n",
       "\n",
       "                               author_id                created_at  \\\n",
       "id                                                                   \n",
       "1506759271027036167  1490822650905694213  2022-03-23T22:26:19.000Z   \n",
       "1506196506595975169  1209233484616781834  2022-03-22T09:10:05.000Z   \n",
       "1506178370748436481             72942712  2022-03-22T07:58:01.000Z   \n",
       "1499601106271363077  1477466889697873920  2022-03-04T04:22:19.000Z   \n",
       "1502466077430800387            559521715  2022-03-12T02:06:41.000Z   \n",
       "1501359087501692932           2877662112  2022-03-09T00:47:55.000Z   \n",
       "1509087938461990913  1470425501504204803  2022-03-30T08:39:36.000Z   \n",
       "1506782851081150464             22240612  2022-03-24T00:00:01.000Z   \n",
       "1506795268389449732  1176312831806853120  2022-03-24T00:49:21.000Z   \n",
       "1506782887282098179             54861430  2022-03-24T00:00:09.000Z   \n",
       "1498812334822862850            339435210  2022-03-02T00:08:01.000Z   \n",
       "1499625688462069763  1440205262783070213  2022-03-04T06:00:00.000Z   \n",
       "1503182989416611843           2568405272  2022-03-14T01:35:27.000Z   \n",
       "1503166678162886662  1278163129881354240  2022-03-14T00:30:38.000Z   \n",
       "1503174587869138944  1100444162443235328  2022-03-14T01:02:04.000Z   \n",
       "1498549338967986177  1286666086121738242  2022-03-01T06:42:58.000Z   \n",
       "1500217170143457291             99623703  2022-03-05T21:10:20.000Z   \n",
       "1509136664056119296   989533964741169153  2022-03-30T11:53:13.000Z   \n",
       "1509136552882024451  1497262491436519436  2022-03-30T11:52:47.000Z   \n",
       "1499897367352467456            379297386  2022-03-04T23:59:33.000Z   \n",
       "1502034986358255617  1055534008921153536  2022-03-10T21:33:41.000Z   \n",
       "1506890486874783744  1055183113511489544  2022-03-24T07:07:43.000Z   \n",
       "1509676096404570112           1004022175  2022-03-31T23:36:44.000Z   \n",
       "1509597773955571718           2499775770  2022-03-31T18:25:30.000Z   \n",
       "1509597697803702274            231520553  2022-03-31T18:25:12.000Z   \n",
       "1499130681561079818            241959522  2022-03-02T21:13:01.000Z   \n",
       "1504031077542813702   817707327537168386  2022-03-16T09:45:27.000Z   \n",
       "1504050507538735106  1499733416874594307  2022-03-16T11:02:39.000Z   \n",
       "1507727214896459779             60342590  2022-03-26T14:32:34.000Z   \n",
       "1507765361692790791  1481086044233732098  2022-03-26T17:04:09.000Z   \n",
       "1509676565227278337           3157146710  2022-03-31T23:38:36.000Z   \n",
       "1498793758057545739             21729540  2022-03-01T22:54:12.000Z   \n",
       "1503093023990767617           2312978781  2022-03-13T19:37:57.000Z   \n",
       "1499984570942427139  1471106824791228419  2022-03-05T05:46:04.000Z   \n",
       "1499994538299072512  1183863968017850368  2022-03-05T06:25:41.000Z   \n",
       "1498719266434023428            259564527  2022-03-01T17:58:12.000Z   \n",
       "1507323299034026003  1374370110085898243  2022-03-25T11:47:33.000Z   \n",
       "1502421676687953923           1343371332  2022-03-11T23:10:16.000Z   \n",
       "1502421450904457219   823329820780228614  2022-03-11T23:09:22.000Z   \n",
       "1507427205139283969  1498704345264795650  2022-03-25T18:40:27.000Z   \n",
       "1501242787315924994  1379177895797481473  2022-03-08T17:05:46.000Z   \n",
       "1501215537220800514            557983678  2022-03-08T15:17:29.000Z   \n",
       "1501173619946364928           1622864016  2022-03-08T12:30:56.000Z   \n",
       "1507867250585264133             16666806  2022-03-26T23:49:02.000Z   \n",
       "1503359505060487168  1497906006478757891  2022-03-14T13:16:51.000Z   \n",
       "1501762900696117249   708099250467377152  2022-03-10T03:32:31.000Z   \n",
       "1509331356702150664  1504006840291627015  2022-03-31T00:46:52.000Z   \n",
       "1500161826369286148             15750903  2022-03-05T17:30:25.000Z   \n",
       "1508236563217408001   838321345570156545  2022-03-28T00:16:33.000Z   \n",
       "1501887477413339139             14770715  2022-03-10T11:47:32.000Z   \n",
       "1499355233268420613   960379844788916224  2022-03-03T12:05:18.000Z   \n",
       "1508225701316595717           1328264828  2022-03-27T23:33:23.000Z   \n",
       "1503307484693504000            533049923  2022-03-14T09:50:09.000Z   \n",
       "1507951797461159940            560555551  2022-03-27T05:24:59.000Z   \n",
       "1501008698918981635            152072446  2022-03-08T01:35:35.000Z   \n",
       "1509770950086119432            259329309  2022-04-01T05:53:39.000Z   \n",
       "1498440123079294976           4813840400  2022-02-28T23:28:59.000Z   \n",
       "1503158258193686529  1461544800050577409  2022-03-13T23:57:10.000Z   \n",
       "\n",
       "                    referenced_tweets  \\\n",
       "id                                      \n",
       "1506759271027036167               NaN   \n",
       "1506196506595975169               NaN   \n",
       "1506178370748436481               NaN   \n",
       "1499601106271363077               NaN   \n",
       "1502466077430800387               NaN   \n",
       "1501359087501692932               NaN   \n",
       "1509087938461990913               NaN   \n",
       "1506782851081150464               NaN   \n",
       "1506795268389449732               NaN   \n",
       "1506782887282098179               NaN   \n",
       "1498812334822862850               NaN   \n",
       "1499625688462069763               NaN   \n",
       "1503182989416611843               NaN   \n",
       "1503166678162886662               NaN   \n",
       "1503174587869138944               NaN   \n",
       "1498549338967986177               NaN   \n",
       "1500217170143457291               NaN   \n",
       "1509136664056119296               NaN   \n",
       "1509136552882024451               NaN   \n",
       "1499897367352467456               NaN   \n",
       "1502034986358255617               NaN   \n",
       "1506890486874783744               NaN   \n",
       "1509676096404570112               NaN   \n",
       "1509597773955571718               NaN   \n",
       "1509597697803702274               NaN   \n",
       "1499130681561079818               NaN   \n",
       "1504031077542813702               NaN   \n",
       "1504050507538735106               NaN   \n",
       "1507727214896459779               NaN   \n",
       "1507765361692790791               NaN   \n",
       "1509676565227278337               NaN   \n",
       "1498793758057545739               NaN   \n",
       "1503093023990767617               NaN   \n",
       "1499984570942427139               NaN   \n",
       "1499994538299072512               NaN   \n",
       "1498719266434023428               NaN   \n",
       "1507323299034026003               NaN   \n",
       "1502421676687953923               NaN   \n",
       "1502421450904457219               NaN   \n",
       "1507427205139283969               NaN   \n",
       "1501242787315924994               NaN   \n",
       "1501215537220800514               NaN   \n",
       "1501173619946364928               NaN   \n",
       "1507867250585264133               NaN   \n",
       "1503359505060487168               NaN   \n",
       "1501762900696117249               NaN   \n",
       "1509331356702150664               NaN   \n",
       "1500161826369286148               NaN   \n",
       "1508236563217408001               NaN   \n",
       "1501887477413339139               NaN   \n",
       "1499355233268420613               NaN   \n",
       "1508225701316595717               NaN   \n",
       "1503307484693504000               NaN   \n",
       "1507951797461159940               NaN   \n",
       "1501008698918981635               NaN   \n",
       "1509770950086119432               NaN   \n",
       "1498440123079294976               NaN   \n",
       "1503158258193686529               NaN   \n",
       "\n",
       "                                                   context_annotations  \\\n",
       "id                                                                       \n",
       "1506759271027036167  [{'domain': {'id': '88', 'name': 'Political Bo...   \n",
       "1506196506595975169  [{'domain': {'id': '10', 'name': 'Person', 'de...   \n",
       "1506178370748436481                                                NaN   \n",
       "1499601106271363077                                                NaN   \n",
       "1502466077430800387                                                NaN   \n",
       "1501359087501692932  [{'domain': {'id': '10', 'name': 'Person', 'de...   \n",
       "1509087938461990913                                                NaN   \n",
       "1506782851081150464  [{'domain': {'id': '10', 'name': 'Person', 'de...   \n",
       "1506795268389449732  [{'domain': {'id': '45', 'name': 'Brand Vertic...   \n",
       "1506782887282098179                                                NaN   \n",
       "1498812334822862850  [{'domain': {'id': '10', 'name': 'Person', 'de...   \n",
       "1499625688462069763                                                NaN   \n",
       "1503182989416611843  [{'domain': {'id': '30', 'name': 'Entities [En...   \n",
       "1503166678162886662  [{'domain': {'id': '123', 'name': 'Ongoing New...   \n",
       "1503174587869138944  [{'domain': {'id': '10', 'name': 'Person', 'de...   \n",
       "1498549338967986177  [{'domain': {'id': '10', 'name': 'Person', 'de...   \n",
       "1500217170143457291  [{'domain': {'id': '88', 'name': 'Political Bo...   \n",
       "1509136664056119296                                                NaN   \n",
       "1509136552882024451                                                NaN   \n",
       "1499897367352467456  [{'domain': {'id': '88', 'name': 'Political Bo...   \n",
       "1502034986358255617                                                NaN   \n",
       "1506890486874783744                                                NaN   \n",
       "1509676096404570112                                                NaN   \n",
       "1509597773955571718  [{'domain': {'id': '10', 'name': 'Person', 'de...   \n",
       "1509597697803702274  [{'domain': {'id': '3', 'name': 'TV Shows', 'd...   \n",
       "1499130681561079818                                                NaN   \n",
       "1504031077542813702  [{'domain': {'id': '10', 'name': 'Person', 'de...   \n",
       "1504050507538735106                                                NaN   \n",
       "1507727214896459779  [{'domain': {'id': '10', 'name': 'Person', 'de...   \n",
       "1507765361692790791  [{'domain': {'id': '10', 'name': 'Person', 'de...   \n",
       "1509676565227278337  [{'domain': {'id': '10', 'name': 'Person', 'de...   \n",
       "1498793758057545739  [{'domain': {'id': '47', 'name': 'Brand', 'des...   \n",
       "1503093023990767617                                                NaN   \n",
       "1499984570942427139  [{'domain': {'id': '47', 'name': 'Brand', 'des...   \n",
       "1499994538299072512  [{'domain': {'id': '46', 'name': 'Brand Catego...   \n",
       "1498719266434023428  [{'domain': {'id': '47', 'name': 'Brand', 'des...   \n",
       "1507323299034026003                                                NaN   \n",
       "1502421676687953923  [{'domain': {'id': '10', 'name': 'Person', 'de...   \n",
       "1502421450904457219  [{'domain': {'id': '10', 'name': 'Person', 'de...   \n",
       "1507427205139283969                                                NaN   \n",
       "1501242787315924994                                                NaN   \n",
       "1501215537220800514                                                NaN   \n",
       "1501173619946364928  [{'domain': {'id': '10', 'name': 'Person', 'de...   \n",
       "1507867250585264133  [{'domain': {'id': '88', 'name': 'Political Bo...   \n",
       "1503359505060487168                                                NaN   \n",
       "1501762900696117249  [{'domain': {'id': '10', 'name': 'Person', 'de...   \n",
       "1509331356702150664  [{'domain': {'id': '10', 'name': 'Person', 'de...   \n",
       "1500161826369286148                                                NaN   \n",
       "1508236563217408001  [{'domain': {'id': '10', 'name': 'Person', 'de...   \n",
       "1501887477413339139  [{'domain': {'id': '3', 'name': 'TV Shows', 'd...   \n",
       "1499355233268420613  [{'domain': {'id': '46', 'name': 'Brand Catego...   \n",
       "1508225701316595717  [{'domain': {'id': '10', 'name': 'Person', 'de...   \n",
       "1503307484693504000  [{'domain': {'id': '88', 'name': 'Political Bo...   \n",
       "1507951797461159940  [{'domain': {'id': '10', 'name': 'Person', 'de...   \n",
       "1501008698918981635                                                NaN   \n",
       "1509770950086119432                                                NaN   \n",
       "1498440123079294976                                                NaN   \n",
       "1503158258193686529                                                NaN   \n",
       "\n",
       "                    withheld                               geo   type lang  \n",
       "id                                                                          \n",
       "1506759271027036167      NaN                               NaN  tweet   en  \n",
       "1506196506595975169      NaN                               NaN  tweet   en  \n",
       "1506178370748436481      NaN                               NaN  tweet   en  \n",
       "1499601106271363077      NaN                               NaN  tweet   en  \n",
       "1502466077430800387      NaN                               NaN  tweet   en  \n",
       "1501359087501692932      NaN                               NaN  tweet   en  \n",
       "1509087938461990913      NaN                               NaN  tweet   en  \n",
       "1506782851081150464      NaN                               NaN  tweet   en  \n",
       "1506795268389449732      NaN                               NaN  tweet   en  \n",
       "1506782887282098179      NaN                               NaN  tweet   en  \n",
       "1498812334822862850      NaN                               NaN  tweet   en  \n",
       "1499625688462069763      NaN                               NaN  tweet   en  \n",
       "1503182989416611843      NaN                               NaN  tweet   en  \n",
       "1503166678162886662      NaN                               NaN  tweet   en  \n",
       "1503174587869138944      NaN                               NaN  tweet   en  \n",
       "1498549338967986177      NaN                               NaN  tweet   en  \n",
       "1500217170143457291      NaN                               NaN  tweet   en  \n",
       "1509136664056119296      NaN                               NaN  tweet   en  \n",
       "1509136552882024451      NaN                               NaN  tweet   en  \n",
       "1499897367352467456      NaN                               NaN  tweet   en  \n",
       "1502034986358255617      NaN                               NaN  tweet   en  \n",
       "1506890486874783744      NaN                               NaN  tweet   en  \n",
       "1509676096404570112      NaN                               NaN  tweet   en  \n",
       "1509597773955571718      NaN                               NaN  tweet   en  \n",
       "1509597697803702274      NaN                               NaN  tweet   en  \n",
       "1499130681561079818      NaN                               NaN  tweet   en  \n",
       "1504031077542813702      NaN                               NaN  tweet   en  \n",
       "1504050507538735106      NaN                               NaN  tweet   en  \n",
       "1507727214896459779      NaN                               NaN  tweet   en  \n",
       "1507765361692790791      NaN                               NaN  tweet   en  \n",
       "1509676565227278337      NaN                               NaN  tweet   en  \n",
       "1498793758057545739      NaN                               NaN  tweet   en  \n",
       "1503093023990767617      NaN                               NaN  tweet   en  \n",
       "1499984570942427139      NaN                               NaN  tweet   en  \n",
       "1499994538299072512      NaN                               NaN  tweet   en  \n",
       "1498719266434023428      NaN                               NaN  tweet   en  \n",
       "1507323299034026003      NaN                               NaN  tweet   en  \n",
       "1502421676687953923      NaN                               NaN  tweet   en  \n",
       "1502421450904457219      NaN                               NaN  tweet   en  \n",
       "1507427205139283969      NaN                               NaN  tweet   en  \n",
       "1501242787315924994      NaN                               NaN  tweet   en  \n",
       "1501215537220800514      NaN                               NaN  tweet   en  \n",
       "1501173619946364928      NaN                               NaN  tweet   en  \n",
       "1507867250585264133      NaN                               NaN  tweet   en  \n",
       "1503359505060487168      NaN                               NaN  tweet   en  \n",
       "1501762900696117249      NaN                               NaN  tweet   en  \n",
       "1509331356702150664      NaN                               NaN  tweet   en  \n",
       "1500161826369286148      NaN                               NaN  tweet   en  \n",
       "1508236563217408001      NaN                               NaN  tweet   en  \n",
       "1501887477413339139      NaN                               NaN  tweet   en  \n",
       "1499355233268420613      NaN                               NaN  tweet   en  \n",
       "1508225701316595717      NaN  {'place_id': 'bd3d2074a33fbd06'}  tweet   en  \n",
       "1503307484693504000      NaN                               NaN  tweet   en  \n",
       "1507951797461159940      NaN                               NaN  tweet   en  \n",
       "1501008698918981635      NaN                               NaN  tweet   en  \n",
       "1509770950086119432      NaN                               NaN  tweet   en  \n",
       "1498440123079294976      NaN                               NaN  tweet   en  \n",
       "1503158258193686529      NaN                               NaN  tweet   en  "
      ]
     },
     "execution_count": 6,
     "metadata": {},
     "output_type": "execute_result"
    }
   ],
   "source": [
    "df_tweets = df_all_tweets[df_all_tweets[\"type\"] == \"tweet\"]\n",
    "df_tweets_en = df_tweets[df_tweets[\"lang\"] == \"en\"]\n",
    "df_tweets_en"
   ]
  },
  {
   "cell_type": "code",
   "execution_count": 101,
   "id": "3e85d08e",
   "metadata": {},
   "outputs": [],
   "source": [
    "def get_np_ents(doc):\n",
    "    \n",
    "    relevant_entities = [\"EVENT\",\n",
    "                         \"GPE\",\n",
    "                         \"LOC\",\n",
    "                         \"NORP\",\n",
    "                         \"ORG\",\n",
    "                         \"PERSON\"\n",
    "                        ]\n",
    "    \n",
    "    ignore_tokens = [\"det\"]\n",
    "\n",
    "    new_ents = []\n",
    "\n",
    "    for np in doc.noun_chunks:\n",
    "        #print(np, np.ents, len(np.ents))\n",
    "        if np.ents and any(ent.label_ in relevant_entities for ent in np.ents):\n",
    "            \n",
    "            np_ent = np\n",
    "            np_ent.label_ = \"NP\"\n",
    "            \n",
    "            if np.root.ent_type_: # keep entity label if the noun at the root of the np is that entity\n",
    "                np_ent.label_ = np.root.ent_type_\n",
    "            \n",
    "            while doc[np_ent.start].dep_ in ignore_tokens: # remove \"the\", \"an\", etc\n",
    "                np_ent.start = np_ent.start+1\n",
    "                \n",
    "            new_ents.append(np_ent)\n",
    "\n",
    "    # in order to be able to nicely visualize the entity-noun-phrases, \n",
    "    # I'm replacing spacy's predicted named entities with them.\n",
    "    # This is just because of displacy weirdness though -- they should instead\n",
    "    # be saved separately as spans.\n",
    "    doc.ents = new_ents  \n",
    "\n",
    "    #displacy.render(doc, style=\"ent\")\n",
    "    \n",
    "    return(doc)"
   ]
  },
  {
   "cell_type": "code",
   "execution_count": 102,
   "id": "f20eac2a",
   "metadata": {},
   "outputs": [
    {
     "data": {
      "text/plain": [
       "An elite Ukrainian drone unit exploits the cover of night to destroy Russian tanks and trucks while their soldiers sleep, report says "
      ]
     },
     "execution_count": 102,
     "metadata": {},
     "output_type": "execute_result"
    }
   ],
   "source": [
    "get_np_ents(nlp(tweets[2]))"
   ]
  },
  {
   "cell_type": "code",
   "execution_count": 22,
   "id": "902abc62",
   "metadata": {},
   "outputs": [
    {
     "name": "stdout",
     "output_type": "stream",
     "text": [
      "CARDINAL Numerals that do not fall under another type\n",
      "DATE Absolute or relative dates or periods\n",
      "EVENT Named hurricanes, battles, wars, sports events, etc.\n",
      "FAC Buildings, airports, highways, bridges, etc.\n",
      "GPE Countries, cities, states\n",
      "LANGUAGE Any named language\n",
      "LAW Named documents made into laws.\n",
      "LOC Non-GPE locations, mountain ranges, bodies of water\n",
      "MONEY Monetary values, including unit\n",
      "NORP Nationalities or religious or political groups\n",
      "ORDINAL \"first\", \"second\", etc.\n",
      "ORG Companies, agencies, institutions, etc.\n",
      "PERCENT Percentage, including \"%\"\n",
      "PERSON People, including fictional\n",
      "PRODUCT Objects, vehicles, foods, etc. (not services)\n",
      "QUANTITY Measurements, as of weight or distance\n",
      "TIME Times smaller than a day\n",
      "WORK_OF_ART Titles of books, songs, etc.\n"
     ]
    }
   ],
   "source": [
    "for label in nlp.get_pipe(\"ner\").labels:\n",
    "    print(label, spacy.explain(label))"
   ]
  },
  {
   "cell_type": "code",
   "execution_count": 99,
   "id": "aa0e0498",
   "metadata": {},
   "outputs": [],
   "source": [
    "def preprocess(tweet):\n",
    "    tweet = tweet.replace(\"#\", \"\")\n",
    "    tweet = tweet.replace(\" | \", \". \")\n",
    "    tweet = tweet.replace(\"’g\", \"ing\")\n",
    "    tweet = clean(tweet, lower = False)\n",
    "    tweet = re.sub(r'http\\S+', '', tweet)\n",
    "    #print(tweet)\n",
    "    \n",
    "    doc = nlp(tweet)\n",
    "    doc = get_np_ents(doc)\n",
    "    return(doc)"
   ]
  },
  {
   "cell_type": "code",
   "execution_count": 107,
   "id": "1c71b680",
   "metadata": {},
   "outputs": [
    {
     "name": "stdout",
     "output_type": "stream",
     "text": [
      "58\n"
     ]
    }
   ],
   "source": [
    "tweets = list(df_tweets_en[\"text\"])\n",
    "print(len(tweets))"
   ]
  },
  {
   "cell_type": "code",
   "execution_count": 108,
   "id": "3cd5ed04",
   "metadata": {},
   "outputs": [],
   "source": [
    "tweets = [preprocess(tweet) for tweet in tweets]"
   ]
  },
  {
   "cell_type": "code",
   "execution_count": 110,
   "id": "3dc60217",
   "metadata": {
    "scrolled": false
   },
   "outputs": [
    {
     "name": "stdout",
     "output_type": "stream",
     "text": [
      "------------------------------------------\n"
     ]
    },
    {
     "data": {
      "text/html": [
       "<span class=\"tex2jax_ignore\"><div class=\"entities\" style=\"line-height: 2.5; direction: ltr\">\n",
       "<mark class=\"entity\" style=\"background: #ddd; padding: 0.45em 0.6em; margin: 0 0.25em; line-height: 1; border-radius: 0.35em;\">\n",
       "    As many as 15,000 Russian troops\n",
       "    <span style=\"font-size: 0.8em; font-weight: bold; line-height: 1; border-radius: 0.35em; vertical-align: middle; margin-left: 0.5rem\">NP</span>\n",
       "</mark>\n",
       " have been killed in \n",
       "<mark class=\"entity\" style=\"background: #feca74; padding: 0.45em 0.6em; margin: 0 0.25em; line-height: 1; border-radius: 0.35em;\">\n",
       "    Ukraine\n",
       "    <span style=\"font-size: 0.8em; font-weight: bold; line-height: 1; border-radius: 0.35em; vertical-align: middle; margin-left: 0.5rem\">GPE</span>\n",
       "</mark>\n",
       ", \n",
       "<mark class=\"entity\" style=\"background: #7aecec; padding: 0.45em 0.6em; margin: 0 0.25em; line-height: 1; border-radius: 0.35em;\">\n",
       "    NATO\n",
       "    <span style=\"font-size: 0.8em; font-weight: bold; line-height: 1; border-radius: 0.35em; vertical-align: middle; margin-left: 0.5rem\">ORG</span>\n",
       "</mark>\n",
       " says:  Not according to \n",
       "<mark class=\"entity\" style=\"background: #aa9cfc; padding: 0.45em 0.6em; margin: 0 0.25em; line-height: 1; border-radius: 0.35em;\">\n",
       "    Carlson\n",
       "    <span style=\"font-size: 0.8em; font-weight: bold; line-height: 1; border-radius: 0.35em; vertical-align: middle; margin-left: 0.5rem\">PERSON</span>\n",
       "</mark>\n",
       ". He updated his previous numbers from 100 soldiers and 0 Generals killed, to up to 500 soldiers and possibly 1 careless General by friendly fire killed🤣</div></span>"
      ],
      "text/plain": [
       "<IPython.core.display.HTML object>"
      ]
     },
     "metadata": {},
     "output_type": "display_data"
    },
    {
     "name": "stdout",
     "output_type": "stream",
     "text": [
      "As ADV advmod NP\n",
      "many ADJ amod NP\n",
      "as ADP quantmod NP\n",
      "15,000 NUM nummod NP\n",
      "Russian ADJ amod NP\n",
      "troops NOUN nsubjpass NP\n",
      "\n",
      "Ukraine PROPN pobj GPE\n",
      "\n",
      "NATO PROPN nsubj ORG\n",
      "\n",
      "Carlson PROPN pobj PERSON\n",
      "\n",
      "------------------------------------------\n"
     ]
    },
    {
     "data": {
      "text/html": [
       "<span class=\"tex2jax_ignore\"><div class=\"entities\" style=\"line-height: 2.5; direction: ltr\">Horrible what happened to @navalny today. We are shocked. Autocrats has to be stopped. \n",
       "<mark class=\"entity\" style=\"background: #aa9cfc; padding: 0.45em 0.6em; margin: 0 0.25em; line-height: 1; border-radius: 0.35em;\">\n",
       "    Putin\n",
       "    <span style=\"font-size: 0.8em; font-weight: bold; line-height: 1; border-radius: 0.35em; vertical-align: middle; margin-left: 0.5rem\">PERSON</span>\n",
       "</mark>\n",
       " has to be stopped. This is not acceptable. @KremlinRussia_E @UN @UNHumanRights @amnestyusa @amnesty navalny</div></span>"
      ],
      "text/plain": [
       "<IPython.core.display.HTML object>"
      ]
     },
     "metadata": {},
     "output_type": "display_data"
    },
    {
     "name": "stdout",
     "output_type": "stream",
     "text": [
      "Putin PROPN nsubj PERSON\n",
      "\n",
      "------------------------------------------\n"
     ]
    },
    {
     "data": {
      "text/html": [
       "<span class=\"tex2jax_ignore\"><div class=\"entities\" style=\"line-height: 2.5; direction: ltr\">An \n",
       "<mark class=\"entity\" style=\"background: #ddd; padding: 0.45em 0.6em; margin: 0 0.25em; line-height: 1; border-radius: 0.35em;\">\n",
       "    elite Ukrainian drone unit\n",
       "    <span style=\"font-size: 0.8em; font-weight: bold; line-height: 1; border-radius: 0.35em; vertical-align: middle; margin-left: 0.5rem\">NP</span>\n",
       "</mark>\n",
       " exploits the cover of night to destroy \n",
       "<mark class=\"entity\" style=\"background: #ddd; padding: 0.45em 0.6em; margin: 0 0.25em; line-height: 1; border-radius: 0.35em;\">\n",
       "    Russian tanks\n",
       "    <span style=\"font-size: 0.8em; font-weight: bold; line-height: 1; border-radius: 0.35em; vertical-align: middle; margin-left: 0.5rem\">NP</span>\n",
       "</mark>\n",
       " and trucks while their soldiers sleep, report says </div></span>"
      ],
      "text/plain": [
       "<IPython.core.display.HTML object>"
      ]
     },
     "metadata": {},
     "output_type": "display_data"
    },
    {
     "name": "stdout",
     "output_type": "stream",
     "text": [
      "elite ADJ amod NP\n",
      "Ukrainian ADJ amod NP\n",
      "drone NOUN compound NP\n",
      "unit NOUN nsubj NP\n",
      "\n",
      "Russian ADJ amod NP\n",
      "tanks NOUN dobj NP\n",
      "\n",
      "------------------------------------------\n"
     ]
    },
    {
     "data": {
      "text/html": [
       "<span class=\"tex2jax_ignore\"><div class=\"entities\" style=\"line-height: 2.5; direction: ltr\">\n",
       "<mark class=\"entity\" style=\"background: #ddd; padding: 0.45em 0.6em; margin: 0 0.25em; line-height: 1; border-radius: 0.35em;\">\n",
       "    STEELWORKS OTH1\n",
       "    <span style=\"font-size: 0.8em; font-weight: bold; line-height: 1; border-radius: 0.35em; vertical-align: middle; margin-left: 0.5rem\">NP</span>\n",
       "</mark>\n",
       " /// \n",
       "<mark class=\"entity\" style=\"background: #7aecec; padding: 0.45em 0.6em; margin: 0 0.25em; line-height: 1; border-radius: 0.35em;\">\n",
       "    DJ JETLAGGED\n",
       "    <span style=\"font-size: 0.8em; font-weight: bold; line-height: 1; border-radius: 0.35em; vertical-align: middle; margin-left: 0.5rem\">ORG</span>\n",
       "</mark>\n",
       " /// PRIME NUMBERS 2</br>9hr generative piece. Free download, donations accepted for the \n",
       "<mark class=\"entity\" style=\"background: #ddd; padding: 0.45em 0.6em; margin: 0 0.25em; line-height: 1; border-radius: 0.35em;\">\n",
       "    Red Cross' Ukraine Crisis Appeal\n",
       "    <span style=\"font-size: 0.8em; font-weight: bold; line-height: 1; border-radius: 0.35em; vertical-align: middle; margin-left: 0.5rem\">NP</span>\n",
       "</mark>\n",
       "</br></div></span>"
      ],
      "text/plain": [
       "<IPython.core.display.HTML object>"
      ]
     },
     "metadata": {},
     "output_type": "display_data"
    },
    {
     "name": "stdout",
     "output_type": "stream",
     "text": [
      "STEELWORKS PROPN compound NP\n",
      "OTH1 PROPN ROOT NP\n",
      "\n",
      "DJ PROPN compound ORG\n",
      "JETLAGGED PROPN appos ORG\n",
      "\n",
      "Red PROPN compound NP\n",
      "Cross PROPN poss NP\n",
      "' PART case NP\n",
      "Ukraine PROPN compound NP\n",
      "Crisis PROPN compound NP\n",
      "Appeal PROPN pobj NP\n",
      "\n",
      "------------------------------------------\n"
     ]
    },
    {
     "data": {
      "text/html": [
       "<span class=\"tex2jax_ignore\"><div class=\"entities\" style=\"line-height: 2.5; direction: ltr\">Coming from the guy who is trying to rule the world.🤡🌎</br></div></span>"
      ],
      "text/plain": [
       "<IPython.core.display.HTML object>"
      ]
     },
     "metadata": {},
     "output_type": "display_data"
    },
    {
     "name": "stdout",
     "output_type": "stream",
     "text": [
      "------------------------------------------\n"
     ]
    },
    {
     "data": {
      "text/html": [
       "<span class=\"tex2jax_ignore\"><div class=\"entities\" style=\"line-height: 2.5; direction: ltr\">\n",
       "<mark class=\"entity\" style=\"background: #7aecec; padding: 0.45em 0.6em; margin: 0 0.25em; line-height: 1; border-radius: 0.35em;\">\n",
       "    WSJ News Exclusive\n",
       "    <span style=\"font-size: 0.8em; font-weight: bold; line-height: 1; border-radius: 0.35em; vertical-align: middle; margin-left: 0.5rem\">ORG</span>\n",
       "</mark>\n",
       ". Saudi, \n",
       "<mark class=\"entity\" style=\"background: #ddd; padding: 0.45em 0.6em; margin: 0 0.25em; line-height: 1; border-radius: 0.35em;\">\n",
       "    Emirati Leaders\n",
       "    <span style=\"font-size: 0.8em; font-weight: bold; line-height: 1; border-radius: 0.35em; vertical-align: middle; margin-left: 0.5rem\">NP</span>\n",
       "</mark>\n",
       " Decline Calls With \n",
       "<mark class=\"entity\" style=\"background: #aa9cfc; padding: 0.45em 0.6em; margin: 0 0.25em; line-height: 1; border-radius: 0.35em;\">\n",
       "    Biden\n",
       "    <span style=\"font-size: 0.8em; font-weight: bold; line-height: 1; border-radius: 0.35em; vertical-align: middle; margin-left: 0.5rem\">PERSON</span>\n",
       "</mark>\n",
       " During \n",
       "<mark class=\"entity\" style=\"background: #ffeb80; padding: 0.45em 0.6em; margin: 0 0.25em; line-height: 1; border-radius: 0.35em;\">\n",
       "    Ukraine Crisis\n",
       "    <span style=\"font-size: 0.8em; font-weight: bold; line-height: 1; border-radius: 0.35em; vertical-align: middle; margin-left: 0.5rem\">EVENT</span>\n",
       "</mark>\n",
       " </div></span>"
      ],
      "text/plain": [
       "<IPython.core.display.HTML object>"
      ]
     },
     "metadata": {},
     "output_type": "display_data"
    },
    {
     "name": "stdout",
     "output_type": "stream",
     "text": [
      "WSJ PROPN compound ORG\n",
      "News PROPN compound ORG\n",
      "Exclusive PROPN ROOT ORG\n",
      "\n",
      "Emirati PROPN compound NP\n",
      "Leaders PROPN nsubj NP\n",
      "\n",
      "Biden PROPN pobj PERSON\n",
      "\n",
      "Ukraine PROPN compound EVENT\n",
      "Crisis PROPN pobj EVENT\n",
      "\n",
      "------------------------------------------\n"
     ]
    },
    {
     "data": {
      "text/html": [
       "<span class=\"tex2jax_ignore\"><div class=\"entities\" style=\"line-height: 2.5; direction: ltr\">\n",
       "<mark class=\"entity\" style=\"background: #ddd; padding: 0.45em 0.6em; margin: 0 0.25em; line-height: 1; border-radius: 0.35em;\">\n",
       "    Russia's foreign minister\n",
       "    <span style=\"font-size: 0.8em; font-weight: bold; line-height: 1; border-radius: 0.35em; vertical-align: middle; margin-left: 0.5rem\">NP</span>\n",
       "</mark>\n",
       " has arrived in \n",
       "<mark class=\"entity\" style=\"background: #feca74; padding: 0.45em 0.6em; margin: 0 0.25em; line-height: 1; border-radius: 0.35em;\">\n",
       "    China\n",
       "    <span style=\"font-size: 0.8em; font-weight: bold; line-height: 1; border-radius: 0.35em; vertical-align: middle; margin-left: 0.5rem\">GPE</span>\n",
       "</mark>\n",
       " for talks. </div></span>"
      ],
      "text/plain": [
       "<IPython.core.display.HTML object>"
      ]
     },
     "metadata": {},
     "output_type": "display_data"
    },
    {
     "name": "stdout",
     "output_type": "stream",
     "text": [
      "Russia PROPN poss NP\n",
      "'s PART case NP\n",
      "foreign ADJ amod NP\n",
      "minister NOUN nsubj NP\n",
      "\n",
      "China PROPN pobj GPE\n",
      "\n",
      "------------------------------------------\n"
     ]
    },
    {
     "data": {
      "text/html": [
       "<span class=\"tex2jax_ignore\"><div class=\"entities\" style=\"line-height: 2.5; direction: ltr\">\n",
       "<mark class=\"entity\" style=\"background: #aa9cfc; padding: 0.45em 0.6em; margin: 0 0.25em; line-height: 1; border-radius: 0.35em;\">\n",
       "    Detained American basketball player Brittney Griner\n",
       "    <span style=\"font-size: 0.8em; font-weight: bold; line-height: 1; border-radius: 0.35em; vertical-align: middle; margin-left: 0.5rem\">PERSON</span>\n",
       "</mark>\n",
       " was found to be in good condition by a \n",
       "<mark class=\"entity\" style=\"background: #ddd; padding: 0.45em 0.6em; margin: 0 0.25em; line-height: 1; border-radius: 0.35em;\">\n",
       "    US Embassy official\n",
       "    <span style=\"font-size: 0.8em; font-weight: bold; line-height: 1; border-radius: 0.35em; vertical-align: middle; margin-left: 0.5rem\">NP</span>\n",
       "</mark>\n",
       " in \n",
       "<mark class=\"entity\" style=\"background: #feca74; padding: 0.45em 0.6em; margin: 0 0.25em; line-height: 1; border-radius: 0.35em;\">\n",
       "    Russia\n",
       "    <span style=\"font-size: 0.8em; font-weight: bold; line-height: 1; border-radius: 0.35em; vertical-align: middle; margin-left: 0.5rem\">GPE</span>\n",
       "</mark>\n",
       " who was granted access to her, \n",
       "<mark class=\"entity\" style=\"background: #aa9cfc; padding: 0.45em 0.6em; margin: 0 0.25em; line-height: 1; border-radius: 0.35em;\">\n",
       "    State Department Spokesman Ned Price\n",
       "    <span style=\"font-size: 0.8em; font-weight: bold; line-height: 1; border-radius: 0.35em; vertical-align: middle; margin-left: 0.5rem\">PERSON</span>\n",
       "</mark>\n",
       " says.</br></div></span>"
      ],
      "text/plain": [
       "<IPython.core.display.HTML object>"
      ]
     },
     "metadata": {},
     "output_type": "display_data"
    },
    {
     "name": "stdout",
     "output_type": "stream",
     "text": [
      "Detained VERB amod PERSON\n",
      "American ADJ amod PERSON\n",
      "basketball NOUN compound PERSON\n",
      "player NOUN compound PERSON\n",
      "Brittney PROPN compound PERSON\n",
      "Griner PROPN nsubjpass PERSON\n",
      "\n",
      "US PROPN compound NP\n",
      "Embassy PROPN compound NP\n",
      "official NOUN pobj NP\n",
      "\n",
      "Russia PROPN pobj GPE\n",
      "\n",
      "State PROPN compound PERSON\n",
      "Department PROPN compound PERSON\n",
      "Spokesman PROPN compound PERSON\n",
      "Ned PROPN compound PERSON\n",
      "Price PROPN nsubj PERSON\n",
      "\n",
      "------------------------------------------\n"
     ]
    },
    {
     "data": {
      "text/html": [
       "<span class=\"tex2jax_ignore\"><div class=\"entities\" style=\"line-height: 2.5; direction: ltr\">Marketing department here at Ripple XRP BAYC HQ came up with an idea: to hold a special giveaway event for all crypto fans out there.</br>\n",
       "<mark class=\"entity\" style=\"background: #7aecec; padding: 0.45em 0.6em; margin: 0 0.25em; line-height: 1; border-radius: 0.35em;\">\n",
       "    XRPLcommunity ukrainewar defi\n",
       "    <span style=\"font-size: 0.8em; font-weight: bold; line-height: 1; border-radius: 0.35em; vertical-align: middle; margin-left: 0.5rem\">ORG</span>\n",
       "</mark>\n",
       " xrpl</br></div></span>"
      ],
      "text/plain": [
       "<IPython.core.display.HTML object>"
      ]
     },
     "metadata": {},
     "output_type": "display_data"
    },
    {
     "name": "stdout",
     "output_type": "stream",
     "text": [
      "XRPLcommunity PROPN nmod ORG\n",
      "ukrainewar PROPN compound ORG\n",
      "defi PROPN pobj ORG\n",
      "\n",
      "------------------------------------------\n"
     ]
    },
    {
     "data": {
      "text/html": [
       "<span class=\"tex2jax_ignore\"><div class=\"entities\" style=\"line-height: 2.5; direction: ltr\">&quot;Kirill is here as a warrior of Christ,&quot; said a \n",
       "<mark class=\"entity\" style=\"background: #ddd; padding: 0.45em 0.6em; margin: 0 0.25em; line-height: 1; border-radius: 0.35em;\">\n",
       "    Russian priest\n",
       "    <span style=\"font-size: 0.8em; font-weight: bold; line-height: 1; border-radius: 0.35em; vertical-align: middle; margin-left: 0.5rem\">NP</span>\n",
       "</mark>\n",
       " at the funeral of a soldier killed in \n",
       "<mark class=\"entity\" style=\"background: #feca74; padding: 0.45em 0.6em; margin: 0 0.25em; line-height: 1; border-radius: 0.35em;\">\n",
       "    Ukraine\n",
       "    <span style=\"font-size: 0.8em; font-weight: bold; line-height: 1; border-radius: 0.35em; vertical-align: middle; margin-left: 0.5rem\">GPE</span>\n",
       "</mark>\n",
       ".</br>&quot;He fought against evil, Satanic spirits: \n",
       "<mark class=\"entity\" style=\"background: #c887fb; padding: 0.45em 0.6em; margin: 0 0.25em; line-height: 1; border-radius: 0.35em;\">\n",
       "    Ukrainian Nazis\n",
       "    <span style=\"font-size: 0.8em; font-weight: bold; line-height: 1; border-radius: 0.35em; vertical-align: middle; margin-left: 0.5rem\">NORP</span>\n",
       "</mark>\n",
       ", created by \n",
       "<mark class=\"entity\" style=\"background: #ddd; padding: 0.45em 0.6em; margin: 0 0.25em; line-height: 1; border-radius: 0.35em;\">\n",
       "    American multinational corporations\n",
       "    <span style=\"font-size: 0.8em; font-weight: bold; line-height: 1; border-radius: 0.35em; vertical-align: middle; margin-left: 0.5rem\">NP</span>\n",
       "</mark>\n",
       ".&quot; @highbrow_nobrow</br></div></span>"
      ],
      "text/plain": [
       "<IPython.core.display.HTML object>"
      ]
     },
     "metadata": {},
     "output_type": "display_data"
    },
    {
     "name": "stdout",
     "output_type": "stream",
     "text": [
      "Russian ADJ amod NP\n",
      "priest NOUN nsubj NP\n",
      "\n",
      "Ukraine PROPN pobj GPE\n",
      "\n",
      "Ukrainian PROPN amod NORP\n",
      "Nazis PROPN appos NORP\n",
      "\n",
      "American ADJ amod NP\n",
      "multinational ADJ amod NP\n",
      "corporations NOUN pobj NP\n",
      "\n",
      "------------------------------------------\n"
     ]
    },
    {
     "data": {
      "text/html": [
       "<span class=\"tex2jax_ignore\"><div class=\"entities\" style=\"line-height: 2.5; direction: ltr\">I want to believe sanctions will be enough. God knows I do not believe in war. I do not want to see more soldiers on the ground. But this is not going to stop. This isn't \n",
       "<mark class=\"entity\" style=\"background: #ddd; padding: 0.45em 0.6em; margin: 0 0.25em; line-height: 1; border-radius: 0.35em;\">\n",
       "    Putin's first rodeo\n",
       "    <span style=\"font-size: 0.8em; font-weight: bold; line-height: 1; border-radius: 0.35em; vertical-align: middle; margin-left: 0.5rem\">NP</span>\n",
       "</mark>\n",
       " but the entire world might want to make it his last.</div></span>"
      ],
      "text/plain": [
       "<IPython.core.display.HTML object>"
      ]
     },
     "metadata": {},
     "output_type": "display_data"
    },
    {
     "name": "stdout",
     "output_type": "stream",
     "text": [
      "Putin PROPN poss NP\n",
      "'s PART case NP\n",
      "first ADJ amod NP\n",
      "rodeo NOUN attr NP\n",
      "\n",
      "------------------------------------------\n"
     ]
    },
    {
     "data": {
      "text/html": [
       "<span class=\"tex2jax_ignore\"><div class=\"entities\" style=\"line-height: 2.5; direction: ltr\">We're stunned, as you are. What are your current thoughts? Do you have any ideas on how we can help?</br>\n",
       "<mark class=\"entity\" style=\"background: #ddd; padding: 0.45em 0.6em; margin: 0 0.25em; line-height: 1; border-radius: 0.35em;\">\n",
       "    Russia Ukraine\n",
       "    <span style=\"font-size: 0.8em; font-weight: bold; line-height: 1; border-radius: 0.35em; vertical-align: middle; margin-left: 0.5rem\">NP</span>\n",
       "</mark>\n",
       " StopTheWar GivePeaceAChance </div></span>"
      ],
      "text/plain": [
       "<IPython.core.display.HTML object>"
      ]
     },
     "metadata": {},
     "output_type": "display_data"
    },
    {
     "name": "stdout",
     "output_type": "stream",
     "text": [
      "Russia PROPN compound NP\n",
      "Ukraine PROPN dobj NP\n",
      "\n",
      "------------------------------------------\n"
     ]
    },
    {
     "data": {
      "text/html": [
       "<span class=\"tex2jax_ignore\"><div class=\"entities\" style=\"line-height: 2.5; direction: ltr\">I ordered a moscow mule last night and this guy said &quot;we dont support \n",
       "<mark class=\"entity\" style=\"background: #feca74; padding: 0.45em 0.6em; margin: 0 0.25em; line-height: 1; border-radius: 0.35em;\">\n",
       "    Moscow\n",
       "    <span style=\"font-size: 0.8em; font-weight: bold; line-height: 1; border-radius: 0.35em; vertical-align: middle; margin-left: 0.5rem\">GPE</span>\n",
       "</mark>\n",
       ", were \n",
       "<mark class=\"entity\" style=\"background: #feca74; padding: 0.45em 0.6em; margin: 0 0.25em; line-height: 1; border-radius: 0.35em;\">\n",
       "    Ukraine\n",
       "    <span style=\"font-size: 0.8em; font-weight: bold; line-height: 1; border-radius: 0.35em; vertical-align: middle; margin-left: 0.5rem\">GPE</span>\n",
       "</mark>\n",
       " all the way&quot;</div></span>"
      ],
      "text/plain": [
       "<IPython.core.display.HTML object>"
      ]
     },
     "metadata": {},
     "output_type": "display_data"
    },
    {
     "name": "stdout",
     "output_type": "stream",
     "text": [
      "Moscow PROPN dobj GPE\n",
      "\n",
      "Ukraine PROPN nsubj GPE\n",
      "\n",
      "------------------------------------------\n"
     ]
    },
    {
     "data": {
      "text/html": [
       "<span class=\"tex2jax_ignore\"><div class=\"entities\" style=\"line-height: 2.5; direction: ltr\">While You Were Distracted With Ukraine, Government Quietly Released This Report: 9 Out Of Every 10 COVID Deaths Were Among The &quot; Vaxxed &quot;. Health </div></span>"
      ],
      "text/plain": [
       "<IPython.core.display.HTML object>"
      ]
     },
     "metadata": {},
     "output_type": "display_data"
    },
    {
     "name": "stdout",
     "output_type": "stream",
     "text": [
      "------------------------------------------\n"
     ]
    },
    {
     "data": {
      "text/html": [
       "<span class=\"tex2jax_ignore\"><div class=\"entities\" style=\"line-height: 2.5; direction: ltr\">You know, I feel bad for \n",
       "<mark class=\"entity\" style=\"background: #ddd; padding: 0.45em 0.6em; margin: 0 0.25em; line-height: 1; border-radius: 0.35em;\">\n",
       "    Russian people\n",
       "    <span style=\"font-size: 0.8em; font-weight: bold; line-height: 1; border-radius: 0.35em; vertical-align: middle; margin-left: 0.5rem\">NP</span>\n",
       "</mark>\n",
       " that are against this war and live in \n",
       "<mark class=\"entity\" style=\"background: #feca74; padding: 0.45em 0.6em; margin: 0 0.25em; line-height: 1; border-radius: 0.35em;\">\n",
       "    Russia\n",
       "    <span style=\"font-size: 0.8em; font-weight: bold; line-height: 1; border-radius: 0.35em; vertical-align: middle; margin-left: 0.5rem\">GPE</span>\n",
       "</mark>\n",
       "... \n",
       "<mark class=\"entity\" style=\"background: #c887fb; padding: 0.45em 0.6em; margin: 0 0.25em; line-height: 1; border-radius: 0.35em;\">\n",
       "    not all Russians\n",
       "    <span style=\"font-size: 0.8em; font-weight: bold; line-height: 1; border-radius: 0.35em; vertical-align: middle; margin-left: 0.5rem\">NORP</span>\n",
       "</mark>\n",
       " are like \n",
       "<mark class=\"entity\" style=\"background: #aa9cfc; padding: 0.45em 0.6em; margin: 0 0.25em; line-height: 1; border-radius: 0.35em;\">\n",
       "    Putin\n",
       "    <span style=\"font-size: 0.8em; font-weight: bold; line-height: 1; border-radius: 0.35em; vertical-align: middle; margin-left: 0.5rem\">PERSON</span>\n",
       "</mark>\n",
       ".</div></span>"
      ],
      "text/plain": [
       "<IPython.core.display.HTML object>"
      ]
     },
     "metadata": {},
     "output_type": "display_data"
    },
    {
     "name": "stdout",
     "output_type": "stream",
     "text": [
      "Russian ADJ amod NP\n",
      "people NOUN pobj NP\n",
      "\n",
      "Russia PROPN pobj GPE\n",
      "\n",
      "not PART neg NORP\n",
      "all DET det NORP\n",
      "Russians PROPN nsubj NORP\n",
      "\n",
      "Putin PROPN pobj PERSON\n",
      "\n",
      "------------------------------------------\n"
     ]
    },
    {
     "data": {
      "text/html": [
       "<span class=\"tex2jax_ignore\"><div class=\"entities\" style=\"line-height: 2.5; direction: ltr\">Fascinating interview with \n",
       "<mark class=\"entity\" style=\"background: #aa9cfc; padding: 0.45em 0.6em; margin: 0 0.25em; line-height: 1; border-radius: 0.35em;\">\n",
       "    Fiona Hill\n",
       "    <span style=\"font-size: 0.8em; font-weight: bold; line-height: 1; border-radius: 0.35em; vertical-align: middle; margin-left: 0.5rem\">PERSON</span>\n",
       "</mark>\n",
       " on \n",
       "<mark class=\"entity\" style=\"background: #aa9cfc; padding: 0.45em 0.6em; margin: 0 0.25em; line-height: 1; border-radius: 0.35em;\">\n",
       "    Putin\n",
       "    <span style=\"font-size: 0.8em; font-weight: bold; line-height: 1; border-radius: 0.35em; vertical-align: middle; margin-left: 0.5rem\">PERSON</span>\n",
       "</mark>\n",
       ", and much more than nukes. </div></span>"
      ],
      "text/plain": [
       "<IPython.core.display.HTML object>"
      ]
     },
     "metadata": {},
     "output_type": "display_data"
    },
    {
     "name": "stdout",
     "output_type": "stream",
     "text": [
      "Fiona PROPN compound PERSON\n",
      "Hill PROPN pobj PERSON\n",
      "\n",
      "Putin PROPN pobj PERSON\n",
      "\n",
      "------------------------------------------\n"
     ]
    },
    {
     "data": {
      "text/html": [
       "<span class=\"tex2jax_ignore\"><div class=\"entities\" style=\"line-height: 2.5; direction: ltr\">The mentality that discriminates innocent people at border gates based on their hair color and eye color cannot be civilized. \n",
       "<mark class=\"entity\" style=\"background: #ddd; padding: 0.45em 0.6em; margin: 0 0.25em; line-height: 1; border-radius: 0.35em;\">\n",
       "    NATO Ukrania Rusia UnitedNations Europe Kyiv\n",
       "    <span style=\"font-size: 0.8em; font-weight: bold; line-height: 1; border-radius: 0.35em; vertical-align: middle; margin-left: 0.5rem\">NP</span>\n",
       "</mark>\n",
       "</div></span>"
      ],
      "text/plain": [
       "<IPython.core.display.HTML object>"
      ]
     },
     "metadata": {},
     "output_type": "display_data"
    },
    {
     "name": "stdout",
     "output_type": "stream",
     "text": [
      "NATO PROPN compound NP\n",
      "Ukrania PROPN compound NP\n",
      "Rusia PROPN compound NP\n",
      "UnitedNations PROPN compound NP\n",
      "Europe PROPN compound NP\n",
      "Kyiv PROPN ROOT NP\n",
      "\n",
      "------------------------------------------\n"
     ]
    },
    {
     "data": {
      "text/html": [
       "<span class=\"tex2jax_ignore\"><div class=\"entities\" style=\"line-height: 2.5; direction: ltr\">Can \n",
       "<mark class=\"entity\" style=\"background: #feca74; padding: 0.45em 0.6em; margin: 0 0.25em; line-height: 1; border-radius: 0.35em;\">\n",
       "    Montana\n",
       "    <span style=\"font-size: 0.8em; font-weight: bold; line-height: 1; border-radius: 0.35em; vertical-align: middle; margin-left: 0.5rem\">GPE</span>\n",
       "</mark>\n",
       " expect any \n",
       "<mark class=\"entity\" style=\"background: #ddd; padding: 0.45em 0.6em; margin: 0 0.25em; line-height: 1; border-radius: 0.35em;\">\n",
       "    Ukrainian refugees\n",
       "    <span style=\"font-size: 0.8em; font-weight: bold; line-height: 1; border-radius: 0.35em; vertical-align: middle; margin-left: 0.5rem\">NP</span>\n",
       "</mark>\n",
       "? </div></span>"
      ],
      "text/plain": [
       "<IPython.core.display.HTML object>"
      ]
     },
     "metadata": {},
     "output_type": "display_data"
    },
    {
     "name": "stdout",
     "output_type": "stream",
     "text": [
      "Montana PROPN nsubj GPE\n",
      "\n",
      "Ukrainian ADJ amod NP\n",
      "refugees NOUN dobj NP\n",
      "\n",
      "------------------------------------------\n"
     ]
    },
    {
     "data": {
      "text/html": [
       "<span class=\"tex2jax_ignore\"><div class=\"entities\" style=\"line-height: 2.5; direction: ltr\">🇺🇦Head of the \n",
       "<mark class=\"entity\" style=\"background: #aa9cfc; padding: 0.45em 0.6em; margin: 0 0.25em; line-height: 1; border-radius: 0.35em;\">\n",
       "    Nikolaev Regional State Administration Kim\n",
       "    <span style=\"font-size: 0.8em; font-weight: bold; line-height: 1; border-radius: 0.35em; vertical-align: middle; margin-left: 0.5rem\">PERSON</span>\n",
       "</mark>\n",
       " answers questions. He does not have joy like in his videos \n",
       "<mark class=\"entity\" style=\"background: #feca74; padding: 0.45em 0.6em; margin: 0 0.25em; line-height: 1; border-radius: 0.35em;\">\n",
       "    Ukraine\n",
       "    <span style=\"font-size: 0.8em; font-weight: bold; line-height: 1; border-radius: 0.35em; vertical-align: middle; margin-left: 0.5rem\">GPE</span>\n",
       "</mark>\n",
       " \n",
       "<mark class=\"entity\" style=\"background: #feca74; padding: 0.45em 0.6em; margin: 0 0.25em; line-height: 1; border-radius: 0.35em;\">\n",
       "    UkraineWar Russia\n",
       "    <span style=\"font-size: 0.8em; font-weight: bold; line-height: 1; border-radius: 0.35em; vertical-align: middle; margin-left: 0.5rem\">GPE</span>\n",
       "</mark>\n",
       " UkraineInvasion </div></span>"
      ],
      "text/plain": [
       "<IPython.core.display.HTML object>"
      ]
     },
     "metadata": {},
     "output_type": "display_data"
    },
    {
     "name": "stdout",
     "output_type": "stream",
     "text": [
      "Nikolaev PROPN compound PERSON\n",
      "Regional PROPN compound PERSON\n",
      "State PROPN compound PERSON\n",
      "Administration PROPN compound PERSON\n",
      "Kim PROPN pobj PERSON\n",
      "\n",
      "Ukraine PROPN appos GPE\n",
      "\n",
      "UkraineWar PROPN compound GPE\n",
      "Russia PROPN appos GPE\n",
      "\n",
      "------------------------------------------\n"
     ]
    },
    {
     "data": {
      "text/html": [
       "<span class=\"tex2jax_ignore\"><div class=\"entities\" style=\"line-height: 2.5; direction: ltr\">\n",
       "<mark class=\"entity\" style=\"background: #ddd; padding: 0.45em 0.6em; margin: 0 0.25em; line-height: 1; border-radius: 0.35em;\">\n",
       "     NATO allies\n",
       "    <span style=\"font-size: 0.8em; font-weight: bold; line-height: 1; border-radius: 0.35em; vertical-align: middle; margin-left: 0.5rem\">NP</span>\n",
       "</mark>\n",
       " rejected \n",
       "<mark class=\"entity\" style=\"background: #ddd; padding: 0.45em 0.6em; margin: 0 0.25em; line-height: 1; border-radius: 0.35em;\">\n",
       "    Ukraine's demand\n",
       "    <span style=\"font-size: 0.8em; font-weight: bold; line-height: 1; border-radius: 0.35em; vertical-align: middle; margin-left: 0.5rem\">NP</span>\n",
       "</mark>\n",
       " for no-fly zones on Friday, saying they were increasing support but that stepping in directly would lead to a \n",
       "<mark class=\"entity\" style=\"background: #ddd; padding: 0.45em 0.6em; margin: 0 0.25em; line-height: 1; border-radius: 0.35em;\">\n",
       "    broader, even more brutal European war\n",
       "    <span style=\"font-size: 0.8em; font-weight: bold; line-height: 1; border-radius: 0.35em; vertical-align: middle; margin-left: 0.5rem\">NP</span>\n",
       "</mark>\n",
       " so far limited to \n",
       "<mark class=\"entity\" style=\"background: #ddd; padding: 0.45em 0.6em; margin: 0 0.25em; line-height: 1; border-radius: 0.35em;\">\n",
       "    Russia's assault\n",
       "    <span style=\"font-size: 0.8em; font-weight: bold; line-height: 1; border-radius: 0.35em; vertical-align: middle; margin-left: 0.5rem\">NP</span>\n",
       "</mark>\n",
       " on its neighbour. Ze is a loser!</div></span>"
      ],
      "text/plain": [
       "<IPython.core.display.HTML object>"
      ]
     },
     "metadata": {},
     "output_type": "display_data"
    },
    {
     "name": "stdout",
     "output_type": "stream",
     "text": [
      "  SPACE amod NP\n",
      "NATO PROPN compound NP\n",
      "allies NOUN nsubj NP\n",
      "\n",
      "Ukraine PROPN poss NP\n",
      "'s PART case NP\n",
      "demand NOUN dobj NP\n",
      "\n",
      "broader ADJ amod NP\n",
      ", PUNCT punct NP\n",
      "even ADV advmod NP\n",
      "more ADV advmod NP\n",
      "brutal ADJ amod NP\n",
      "European ADJ amod NP\n",
      "war NOUN pobj NP\n",
      "\n",
      "Russia PROPN poss NP\n",
      "'s PART case NP\n",
      "assault NOUN pobj NP\n",
      "\n",
      "------------------------------------------\n"
     ]
    },
    {
     "data": {
      "text/html": [
       "<span class=\"tex2jax_ignore\"><div class=\"entities\" style=\"line-height: 2.5; direction: ltr\">\n",
       "<mark class=\"entity\" style=\"background: #aa9cfc; padding: 0.45em 0.6em; margin: 0 0.25em; line-height: 1; border-radius: 0.35em;\">\n",
       "    Anastasiades\n",
       "    <span style=\"font-size: 0.8em; font-weight: bold; line-height: 1; border-radius: 0.35em; vertical-align: middle; margin-left: 0.5rem\">PERSON</span>\n",
       "</mark>\n",
       ": \n",
       "<mark class=\"entity\" style=\"background: #feca74; padding: 0.45em 0.6em; margin: 0 0.25em; line-height: 1; border-radius: 0.35em;\">\n",
       "    Turkey\n",
       "    <span style=\"font-size: 0.8em; font-weight: bold; line-height: 1; border-radius: 0.35em; vertical-align: middle; margin-left: 0.5rem\">GPE</span>\n",
       "</mark>\n",
       " is undermining sanctions on \n",
       "<mark class=\"entity\" style=\"background: #feca74; padding: 0.45em 0.6em; margin: 0 0.25em; line-height: 1; border-radius: 0.35em;\">\n",
       "    Russia\n",
       "    <span style=\"font-size: 0.8em; font-weight: bold; line-height: 1; border-radius: 0.35em; vertical-align: middle; margin-left: 0.5rem\">GPE</span>\n",
       "</mark>\n",
       " -  </div></span>"
      ],
      "text/plain": [
       "<IPython.core.display.HTML object>"
      ]
     },
     "metadata": {},
     "output_type": "display_data"
    },
    {
     "name": "stdout",
     "output_type": "stream",
     "text": [
      "Anastasiades NOUN ROOT PERSON\n",
      "\n",
      "Turkey PROPN nsubj GPE\n",
      "\n",
      "Russia PROPN pobj GPE\n",
      "\n",
      "------------------------------------------\n"
     ]
    },
    {
     "data": {
      "text/html": [
       "<span class=\"tex2jax_ignore\"><div class=\"entities\" style=\"line-height: 2.5; direction: ltr\"> Apparently \n",
       "<mark class=\"entity\" style=\"background: #feca74; padding: 0.45em 0.6em; margin: 0 0.25em; line-height: 1; border-radius: 0.35em;\">\n",
       "    Sweden\n",
       "    <span style=\"font-size: 0.8em; font-weight: bold; line-height: 1; border-radius: 0.35em; vertical-align: middle; margin-left: 0.5rem\">GPE</span>\n",
       "</mark>\n",
       " is not much better than \n",
       "<mark class=\"entity\" style=\"background: #feca74; padding: 0.45em 0.6em; margin: 0 0.25em; line-height: 1; border-radius: 0.35em;\">\n",
       "    Russia\n",
       "    <span style=\"font-size: 0.8em; font-weight: bold; line-height: 1; border-radius: 0.35em; vertical-align: middle; margin-left: 0.5rem\">GPE</span>\n",
       "</mark>\n",
       " if you believe this narrative here @Aftonbladet How \n",
       "<mark class=\"entity\" style=\"background: #ddd; padding: 0.45em 0.6em; margin: 0 0.25em; line-height: 1; border-radius: 0.35em;\">\n",
       "    Swedish media\n",
       "    <span style=\"font-size: 0.8em; font-weight: bold; line-height: 1; border-radius: 0.35em; vertical-align: middle; margin-left: 0.5rem\">NP</span>\n",
       "</mark>\n",
       " makes this comparison is baffling and risks chipping away our collective moral civil defence.</div></span>"
      ],
      "text/plain": [
       "<IPython.core.display.HTML object>"
      ]
     },
     "metadata": {},
     "output_type": "display_data"
    },
    {
     "name": "stdout",
     "output_type": "stream",
     "text": [
      "Sweden PROPN nsubj GPE\n",
      "\n",
      "Russia PROPN pobj GPE\n",
      "\n",
      "Swedish ADJ amod NP\n",
      "media NOUN nsubj NP\n",
      "\n",
      "------------------------------------------\n"
     ]
    },
    {
     "data": {
      "text/html": [
       "<span class=\"tex2jax_ignore\"><div class=\"entities\" style=\"line-height: 2.5; direction: ltr\">&quot;\n",
       "<mark class=\"entity\" style=\"background: #feca74; padding: 0.45em 0.6em; margin: 0 0.25em; line-height: 1; border-radius: 0.35em;\">\n",
       "    China\n",
       "    <span style=\"font-size: 0.8em; font-weight: bold; line-height: 1; border-radius: 0.35em; vertical-align: middle; margin-left: 0.5rem\">GPE</span>\n",
       "</mark>\n",
       " opposes calls to remove \n",
       "<mark class=\"entity\" style=\"background: #feca74; padding: 0.45em 0.6em; margin: 0 0.25em; line-height: 1; border-radius: 0.35em;\">\n",
       "    Russia\n",
       "    <span style=\"font-size: 0.8em; font-weight: bold; line-height: 1; border-radius: 0.35em; vertical-align: middle; margin-left: 0.5rem\">GPE</span>\n",
       "</mark>\n",
       " from group of world's largest economies&quot;</br>\n",
       "<mark class=\"entity\" style=\"background: #aa9cfc; padding: 0.45em 0.6em; margin: 0 0.25em; line-height: 1; border-radius: 0.35em;\">\n",
       "    Trudeau\n",
       "    <span style=\"font-size: 0.8em; font-weight: bold; line-height: 1; border-radius: 0.35em; vertical-align: middle; margin-left: 0.5rem\">PERSON</span>\n",
       "</mark>\n",
       " calls on \n",
       "<mark class=\"entity\" style=\"background: #7aecec; padding: 0.45em 0.6em; margin: 0 0.25em; line-height: 1; border-radius: 0.35em;\">\n",
       "    G20\n",
       "    <span style=\"font-size: 0.8em; font-weight: bold; line-height: 1; border-radius: 0.35em; vertical-align: middle; margin-left: 0.5rem\">ORG</span>\n",
       "</mark>\n",
       " to reconsider \n",
       "<mark class=\"entity\" style=\"background: #ddd; padding: 0.45em 0.6em; margin: 0 0.25em; line-height: 1; border-radius: 0.35em;\">\n",
       "    Russia's seat\n",
       "    <span style=\"font-size: 0.8em; font-weight: bold; line-height: 1; border-radius: 0.35em; vertical-align: middle; margin-left: 0.5rem\">NP</span>\n",
       "</mark>\n",
       " at the table. \n",
       "<mark class=\"entity\" style=\"background: #7aecec; padding: 0.45em 0.6em; margin: 0 0.25em; line-height: 1; border-radius: 0.35em;\">\n",
       "    CBC News\n",
       "    <span style=\"font-size: 0.8em; font-weight: bold; line-height: 1; border-radius: 0.35em; vertical-align: middle; margin-left: 0.5rem\">ORG</span>\n",
       "</mark>\n",
       " </div></span>"
      ],
      "text/plain": [
       "<IPython.core.display.HTML object>"
      ]
     },
     "metadata": {},
     "output_type": "display_data"
    },
    {
     "name": "stdout",
     "output_type": "stream",
     "text": [
      "China PROPN nsubj GPE\n",
      "\n",
      "Russia PROPN dobj GPE\n",
      "\n",
      "Trudeau PROPN nsubj PERSON\n",
      "\n",
      "G20 PROPN pobj ORG\n",
      "\n",
      "Russia PROPN poss NP\n",
      "'s PART case NP\n",
      "seat NOUN dobj NP\n",
      "\n",
      "CBC PROPN compound ORG\n",
      "News PROPN ROOT ORG\n",
      "\n",
      "------------------------------------------\n"
     ]
    },
    {
     "data": {
      "text/html": [
       "<span class=\"tex2jax_ignore\"><div class=\"entities\" style=\"line-height: 2.5; direction: ltr\">Has \n",
       "<mark class=\"entity\" style=\"background: #ddd; padding: 0.45em 0.6em; margin: 0 0.25em; line-height: 1; border-radius: 0.35em;\">\n",
       "    Putin's invasion\n",
       "    <span style=\"font-size: 0.8em; font-weight: bold; line-height: 1; border-radius: 0.35em; vertical-align: middle; margin-left: 0.5rem\">NP</span>\n",
       "</mark>\n",
       " hurt the \n",
       "<mark class=\"entity\" style=\"background: #7aecec; padding: 0.45em 0.6em; margin: 0 0.25em; line-height: 1; border-radius: 0.35em;\">\n",
       "    European Left\n",
       "    <span style=\"font-size: 0.8em; font-weight: bold; line-height: 1; border-radius: 0.35em; vertical-align: middle; margin-left: 0.5rem\">ORG</span>\n",
       "</mark>\n",
       "? @UnHerd </div></span>"
      ],
      "text/plain": [
       "<IPython.core.display.HTML object>"
      ]
     },
     "metadata": {},
     "output_type": "display_data"
    },
    {
     "name": "stdout",
     "output_type": "stream",
     "text": [
      "Putin PROPN poss NP\n",
      "'s PART case NP\n",
      "invasion NOUN nsubj NP\n",
      "\n",
      "European PROPN compound ORG\n",
      "Left PROPN dobj ORG\n",
      "\n",
      "------------------------------------------\n"
     ]
    },
    {
     "data": {
      "text/html": [
       "<span class=\"tex2jax_ignore\"><div class=\"entities\" style=\"line-height: 2.5; direction: ltr\">What an account fron \n",
       "<mark class=\"entity\" style=\"background: #aa9cfc; padding: 0.45em 0.6em; margin: 0 0.25em; line-height: 1; border-radius: 0.35em;\">\n",
       "    Nadia\n",
       "    <span style=\"font-size: 0.8em; font-weight: bold; line-height: 1; border-radius: 0.35em; vertical-align: middle; margin-left: 0.5rem\">PERSON</span>\n",
       "</mark>\n",
       " about \n",
       "<mark class=\"entity\" style=\"background: #7aecec; padding: 0.45em 0.6em; margin: 0 0.25em; line-height: 1; border-radius: 0.35em;\">\n",
       "    her beloved city Mariupol\n",
       "    <span style=\"font-size: 0.8em; font-weight: bold; line-height: 1; border-radius: 0.35em; vertical-align: middle; margin-left: 0.5rem\">ORG</span>\n",
       "</mark>\n",
       " , and surviving the bombing of the theatre there. UkraineWar c4news</br>And RIP Lyudmilla.</div></span>"
      ],
      "text/plain": [
       "<IPython.core.display.HTML object>"
      ]
     },
     "metadata": {},
     "output_type": "display_data"
    },
    {
     "name": "stdout",
     "output_type": "stream",
     "text": [
      "Nadia PROPN pobj PERSON\n",
      "\n",
      "her PRON poss ORG\n",
      "beloved ADJ amod ORG\n",
      "city NOUN compound ORG\n",
      "Mariupol PROPN pobj ORG\n",
      "\n",
      "------------------------------------------\n"
     ]
    },
    {
     "data": {
      "text/html": [
       "<span class=\"tex2jax_ignore\"><div class=\"entities\" style=\"line-height: 2.5; direction: ltr\">\n",
       "<mark class=\"entity\" style=\"background: #feca74; padding: 0.45em 0.6em; margin: 0 0.25em; line-height: 1; border-radius: 0.35em;\">\n",
       "    Ukraine\n",
       "    <span style=\"font-size: 0.8em; font-weight: bold; line-height: 1; border-radius: 0.35em; vertical-align: middle; margin-left: 0.5rem\">GPE</span>\n",
       "</mark>\n",
       " Thank goodness for the \n",
       "<mark class=\"entity\" style=\"background: #7aecec; padding: 0.45em 0.6em; margin: 0 0.25em; line-height: 1; border-radius: 0.35em;\">\n",
       "    EU\n",
       "    <span style=\"font-size: 0.8em; font-weight: bold; line-height: 1; border-radius: 0.35em; vertical-align: middle; margin-left: 0.5rem\">ORG</span>\n",
       "</mark>\n",
       ", otherwise this human disaster would be significantly worse! Can we please rejoin?</br>SodOffBrexiters</div></span>"
      ],
      "text/plain": [
       "<IPython.core.display.HTML object>"
      ]
     },
     "metadata": {},
     "output_type": "display_data"
    },
    {
     "name": "stdout",
     "output_type": "stream",
     "text": [
      "Ukraine PROPN nsubj GPE\n",
      "\n",
      "EU PROPN pobj ORG\n",
      "\n",
      "------------------------------------------\n"
     ]
    },
    {
     "data": {
      "text/html": [
       "<span class=\"tex2jax_ignore\"><div class=\"entities\" style=\"line-height: 2.5; direction: ltr\">@tedcruz</br>Your best contribution would be to Join the Ukrainian Army.</div></span>"
      ],
      "text/plain": [
       "<IPython.core.display.HTML object>"
      ]
     },
     "metadata": {},
     "output_type": "display_data"
    },
    {
     "name": "stdout",
     "output_type": "stream",
     "text": [
      "------------------------------------------\n"
     ]
    },
    {
     "data": {
      "text/html": [
       "<span class=\"tex2jax_ignore\"><div class=\"entities\" style=\"line-height: 2.5; direction: ltr\">⚡In \n",
       "<mark class=\"entity\" style=\"background: #aa9cfc; padding: 0.45em 0.6em; margin: 0 0.25em; line-height: 1; border-radius: 0.35em;\">\n",
       "    Chernihiv\n",
       "    <span style=\"font-size: 0.8em; font-weight: bold; line-height: 1; border-radius: 0.35em; vertical-align: middle; margin-left: 0.5rem\">PERSON</span>\n",
       "</mark>\n",
       ", in one of the residential districts, \n",
       "<mark class=\"entity\" style=\"background: #ddd; padding: 0.45em 0.6em; margin: 0 0.25em; line-height: 1; border-radius: 0.35em;\">\n",
       "    Russian soldiers\n",
       "    <span style=\"font-size: 0.8em; font-weight: bold; line-height: 1; border-radius: 0.35em; vertical-align: middle; margin-left: 0.5rem\">NP</span>\n",
       "</mark>\n",
       " fired at people standing in line for bread - media </div></span>"
      ],
      "text/plain": [
       "<IPython.core.display.HTML object>"
      ]
     },
     "metadata": {},
     "output_type": "display_data"
    },
    {
     "name": "stdout",
     "output_type": "stream",
     "text": [
      "Chernihiv PROPN pobj PERSON\n",
      "\n",
      "Russian ADJ amod NP\n",
      "soldiers NOUN nsubj NP\n",
      "\n",
      "------------------------------------------\n"
     ]
    },
    {
     "data": {
      "text/html": [
       "<span class=\"tex2jax_ignore\"><div class=\"entities\" style=\"line-height: 2.5; direction: ltr\">\n",
       "<mark class=\"entity\" style=\"background: #ddd; padding: 0.45em 0.6em; margin: 0 0.25em; line-height: 1; border-radius: 0.35em;\">\n",
       "    US Army veteran\n",
       "    <span style=\"font-size: 0.8em; font-weight: bold; line-height: 1; border-radius: 0.35em; vertical-align: middle; margin-left: 0.5rem\">NP</span>\n",
       "</mark>\n",
       " who has volunteered to fight in \n",
       "<mark class=\"entity\" style=\"background: #feca74; padding: 0.45em 0.6em; margin: 0 0.25em; line-height: 1; border-radius: 0.35em;\">\n",
       "    Ukraine\n",
       "    <span style=\"font-size: 0.8em; font-weight: bold; line-height: 1; border-radius: 0.35em; vertical-align: middle; margin-left: 0.5rem\">GPE</span>\n",
       "</mark>\n",
       " says he amps himself up for battle by thinking about \n",
       "<mark class=\"entity\" style=\"background: #aa9cfc; padding: 0.45em 0.6em; margin: 0 0.25em; line-height: 1; border-radius: 0.35em;\">\n",
       "    'punchable' Tucker Carlson\n",
       "    <span style=\"font-size: 0.8em; font-weight: bold; line-height: 1; border-radius: 0.35em; vertical-align: middle; margin-left: 0.5rem\">PERSON</span>\n",
       "</mark>\n",
       "  via @Yahoo</div></span>"
      ],
      "text/plain": [
       "<IPython.core.display.HTML object>"
      ]
     },
     "metadata": {},
     "output_type": "display_data"
    },
    {
     "name": "stdout",
     "output_type": "stream",
     "text": [
      "US PROPN compound NP\n",
      "Army PROPN compound NP\n",
      "veteran NOUN nsubj NP\n",
      "\n",
      "Ukraine PROPN pobj GPE\n",
      "\n",
      "' PUNCT punct PERSON\n",
      "punchable ADJ amod PERSON\n",
      "' PUNCT punct PERSON\n",
      "Tucker PROPN compound PERSON\n",
      "Carlson PROPN pobj PERSON\n",
      "\n",
      "------------------------------------------\n"
     ]
    },
    {
     "data": {
      "text/html": [
       "<span class=\"tex2jax_ignore\"><div class=\"entities\" style=\"line-height: 2.5; direction: ltr\">The 700 million dollar yacht is not \n",
       "<mark class=\"entity\" style=\"background: #aa9cfc; padding: 0.45em 0.6em; margin: 0 0.25em; line-height: 1; border-radius: 0.35em;\">\n",
       "    Putin\n",
       "    <span style=\"font-size: 0.8em; font-weight: bold; line-height: 1; border-radius: 0.35em; vertical-align: middle; margin-left: 0.5rem\">PERSON</span>\n",
       "</mark>\n",
       "'s. The tables are too short and there are chairs surrounding the entire table. If it was \n",
       "<mark class=\"entity\" style=\"background: #ddd; padding: 0.45em 0.6em; margin: 0 0.25em; line-height: 1; border-radius: 0.35em;\">\n",
       "    Putin's the table\n",
       "    <span style=\"font-size: 0.8em; font-weight: bold; line-height: 1; border-radius: 0.35em; vertical-align: middle; margin-left: 0.5rem\">NP</span>\n",
       "</mark>\n",
       " would be longer and only have chairs on the 2 ends</div></span>"
      ],
      "text/plain": [
       "<IPython.core.display.HTML object>"
      ]
     },
     "metadata": {},
     "output_type": "display_data"
    },
    {
     "name": "stdout",
     "output_type": "stream",
     "text": [
      "Putin PROPN attr PERSON\n",
      "\n",
      "Putin PROPN poss NP\n",
      "'s PART case NP\n",
      "the DET det NP\n",
      "table NOUN attr NP\n",
      "\n",
      "------------------------------------------\n"
     ]
    },
    {
     "data": {
      "text/html": [
       "<span class=\"tex2jax_ignore\"><div class=\"entities\" style=\"line-height: 2.5; direction: ltr\">Watch: \n",
       "<mark class=\"entity\" style=\"background: #ddd; padding: 0.45em 0.6em; margin: 0 0.25em; line-height: 1; border-radius: 0.35em;\">\n",
       "    Russian state TV host\n",
       "    <span style=\"font-size: 0.8em; font-weight: bold; line-height: 1; border-radius: 0.35em; vertical-align: middle; margin-left: 0.5rem\">NP</span>\n",
       "</mark>\n",
       " calls for reinstatement of 'partner' \n",
       "<mark class=\"entity\" style=\"background: #aa9cfc; padding: 0.45em 0.6em; margin: 0 0.25em; line-height: 1; border-radius: 0.35em;\">\n",
       "    Donald Trump\n",
       "    <span style=\"font-size: 0.8em; font-weight: bold; line-height: 1; border-radius: 0.35em; vertical-align: middle; margin-left: 0.5rem\">PERSON</span>\n",
       "</mark>\n",
       " as \n",
       "<mark class=\"entity\" style=\"background: #ddd; padding: 0.45em 0.6em; margin: 0 0.25em; line-height: 1; border-radius: 0.35em;\">\n",
       "    US President\n",
       "    <span style=\"font-size: 0.8em; font-weight: bold; line-height: 1; border-radius: 0.35em; vertical-align: middle; margin-left: 0.5rem\">NP</span>\n",
       "</mark>\n",
       "  Oh come on! This says it all.</div></span>"
      ],
      "text/plain": [
       "<IPython.core.display.HTML object>"
      ]
     },
     "metadata": {},
     "output_type": "display_data"
    },
    {
     "name": "stdout",
     "output_type": "stream",
     "text": [
      "Russian ADJ amod NP\n",
      "state NOUN compound NP\n",
      "TV NOUN compound NP\n",
      "host NOUN nsubj NP\n",
      "\n",
      "Donald PROPN compound PERSON\n",
      "Trump PROPN appos PERSON\n",
      "\n",
      "US PROPN compound NP\n",
      "President PROPN pobj NP\n",
      "\n",
      "------------------------------------------\n"
     ]
    },
    {
     "data": {
      "text/html": [
       "<span class=\"tex2jax_ignore\"><div class=\"entities\" style=\"line-height: 2.5; direction: ltr\">\n",
       "<mark class=\"entity\" style=\"background: #7aecec; padding: 0.45em 0.6em; margin: 0 0.25em; line-height: 1; border-radius: 0.35em;\">\n",
       "    Apple\n",
       "    <span style=\"font-size: 0.8em; font-weight: bold; line-height: 1; border-radius: 0.35em; vertical-align: middle; margin-left: 0.5rem\">ORG</span>\n",
       "</mark>\n",
       " pauses all product sales in \n",
       "<mark class=\"entity\" style=\"background: #feca74; padding: 0.45em 0.6em; margin: 0 0.25em; line-height: 1; border-radius: 0.35em;\">\n",
       "    Russia\n",
       "    <span style=\"font-size: 0.8em; font-weight: bold; line-height: 1; border-radius: 0.35em; vertical-align: middle; margin-left: 0.5rem\">GPE</span>\n",
       "</mark>\n",
       ", stops exports and limits \n",
       "<mark class=\"entity\" style=\"background: #ddd; padding: 0.45em 0.6em; margin: 0 0.25em; line-height: 1; border-radius: 0.35em;\">\n",
       "    Apple Pay\n",
       "    <span style=\"font-size: 0.8em; font-weight: bold; line-height: 1; border-radius: 0.35em; vertical-align: middle; margin-left: 0.5rem\">NP</span>\n",
       "</mark>\n",
       ". \n",
       "<mark class=\"entity\" style=\"background: #7aecec; padding: 0.45em 0.6em; margin: 0 0.25em; line-height: 1; border-radius: 0.35em;\">\n",
       "    ZDNet Ukraine UkraineRussiaWar UkraineRussia\n",
       "    <span style=\"font-size: 0.8em; font-weight: bold; line-height: 1; border-radius: 0.35em; vertical-align: middle; margin-left: 0.5rem\">ORG</span>\n",
       "</mark>\n",
       " </div></span>"
      ],
      "text/plain": [
       "<IPython.core.display.HTML object>"
      ]
     },
     "metadata": {},
     "output_type": "display_data"
    },
    {
     "name": "stdout",
     "output_type": "stream",
     "text": [
      "Apple PROPN nsubj ORG\n",
      "\n",
      "Russia PROPN pobj GPE\n",
      "\n",
      "Apple PROPN compound NP\n",
      "Pay PROPN dobj NP\n",
      "\n",
      "ZDNet PROPN compound ORG\n",
      "Ukraine PROPN amod ORG\n",
      "UkraineRussiaWar PROPN prep ORG\n",
      "UkraineRussia PROPN ROOT ORG\n",
      "\n",
      "------------------------------------------\n"
     ]
    },
    {
     "data": {
      "text/html": [
       "<span class=\"tex2jax_ignore\"><div class=\"entities\" style=\"line-height: 2.5; direction: ltr\">The logistics of this \n",
       "<mark class=\"entity\" style=\"background: #ffeb80; padding: 0.45em 0.6em; margin: 0 0.25em; line-height: 1; border-radius: 0.35em;\">\n",
       "    &quot;Ukrainian war\n",
       "    <span style=\"font-size: 0.8em; font-weight: bold; line-height: 1; border-radius: 0.35em; vertical-align: middle; margin-left: 0.5rem\">EVENT</span>\n",
       "</mark>\n",
       "&quot; seem to be more fiction than fact</div></span>"
      ],
      "text/plain": [
       "<IPython.core.display.HTML object>"
      ]
     },
     "metadata": {},
     "output_type": "display_data"
    },
    {
     "name": "stdout",
     "output_type": "stream",
     "text": [
      "\" PUNCT punct EVENT\n",
      "Ukrainian ADJ amod EVENT\n",
      "war NOUN pobj EVENT\n",
      "\n",
      "------------------------------------------\n"
     ]
    },
    {
     "data": {
      "text/html": [
       "<span class=\"tex2jax_ignore\"><div class=\"entities\" style=\"line-height: 2.5; direction: ltr\">\n",
       "<mark class=\"entity\" style=\"background: #7aecec; padding: 0.45em 0.6em; margin: 0 0.25em; line-height: 1; border-radius: 0.35em;\">\n",
       "    Samsung\n",
       "    <span style=\"font-size: 0.8em; font-weight: bold; line-height: 1; border-radius: 0.35em; vertical-align: middle; margin-left: 0.5rem\">ORG</span>\n",
       "</mark>\n",
       " suspends supplies to \n",
       "<mark class=\"entity\" style=\"background: #feca74; padding: 0.45em 0.6em; margin: 0 0.25em; line-height: 1; border-radius: 0.35em;\">\n",
       "    Russia\n",
       "    <span style=\"font-size: 0.8em; font-weight: bold; line-height: 1; border-radius: 0.35em; vertical-align: middle; margin-left: 0.5rem\">GPE</span>\n",
       "</mark>\n",
       " due to the \n",
       "<mark class=\"entity\" style=\"background: #ddd; padding: 0.45em 0.6em; margin: 0 0.25em; line-height: 1; border-radius: 0.35em;\">\n",
       "    Russia-Ukraine conflict\n",
       "    <span style=\"font-size: 0.8em; font-weight: bold; line-height: 1; border-radius: 0.35em; vertical-align: middle; margin-left: 0.5rem\">NP</span>\n",
       "</mark>\n",
       " </div></span>"
      ],
      "text/plain": [
       "<IPython.core.display.HTML object>"
      ]
     },
     "metadata": {},
     "output_type": "display_data"
    },
    {
     "name": "stdout",
     "output_type": "stream",
     "text": [
      "Samsung PROPN nsubj ORG\n",
      "\n",
      "Russia PROPN pobj GPE\n",
      "\n",
      "Russia PROPN compound NP\n",
      "- PUNCT punct NP\n",
      "Ukraine PROPN compound NP\n",
      "conflict NOUN pobj NP\n",
      "\n",
      "------------------------------------------\n"
     ]
    },
    {
     "data": {
      "text/html": [
       "<span class=\"tex2jax_ignore\"><div class=\"entities\" style=\"line-height: 2.5; direction: ltr\">Oh well, now Twitter is officially blocked in \n",
       "<mark class=\"entity\" style=\"background: #feca74; padding: 0.45em 0.6em; margin: 0 0.25em; line-height: 1; border-radius: 0.35em;\">\n",
       "    Russia\n",
       "    <span style=\"font-size: 0.8em; font-weight: bold; line-height: 1; border-radius: 0.35em; vertical-align: middle; margin-left: 0.5rem\">GPE</span>\n",
       "</mark>\n",
       ". I've been using \n",
       "<mark class=\"entity\" style=\"background: #7aecec; padding: 0.45em 0.6em; margin: 0 0.25em; line-height: 1; border-radius: 0.35em;\">\n",
       "    VPN\n",
       "    <span style=\"font-size: 0.8em; font-weight: bold; line-height: 1; border-radius: 0.35em; vertical-align: middle; margin-left: 0.5rem\">ORG</span>\n",
       "</mark>\n",
       " for the last week anyway, now it seems like I will never turn it off 👌🏻</div></span>"
      ],
      "text/plain": [
       "<IPython.core.display.HTML object>"
      ]
     },
     "metadata": {},
     "output_type": "display_data"
    },
    {
     "name": "stdout",
     "output_type": "stream",
     "text": [
      "Russia PROPN pobj GPE\n",
      "\n",
      "VPN NOUN dobj ORG\n",
      "\n",
      "------------------------------------------\n"
     ]
    },
    {
     "data": {
      "text/html": [
       "<span class=\"tex2jax_ignore\"><div class=\"entities\" style=\"line-height: 2.5; direction: ltr\">\n",
       "<mark class=\"entity\" style=\"background: #7aecec; padding: 0.45em 0.6em; margin: 0 0.25em; line-height: 1; border-radius: 0.35em;\">\n",
       "    Yahoo News\n",
       "    <span style=\"font-size: 0.8em; font-weight: bold; line-height: 1; border-radius: 0.35em; vertical-align: middle; margin-left: 0.5rem\">ORG</span>\n",
       "</mark>\n",
       ": Americans, \n",
       "<mark class=\"entity\" style=\"background: #c887fb; padding: 0.45em 0.6em; margin: 0 0.25em; line-height: 1; border-radius: 0.35em;\">\n",
       "    Canadians\n",
       "    <span style=\"font-size: 0.8em; font-weight: bold; line-height: 1; border-radius: 0.35em; vertical-align: middle; margin-left: 0.5rem\">NORP</span>\n",
       "</mark>\n",
       " answer \n",
       "<mark class=\"entity\" style=\"background: #feca74; padding: 0.45em 0.6em; margin: 0 0.25em; line-height: 1; border-radius: 0.35em;\">\n",
       "    Ukraine\n",
       "    <span style=\"font-size: 0.8em; font-weight: bold; line-height: 1; border-radius: 0.35em; vertical-align: middle; margin-left: 0.5rem\">GPE</span>\n",
       "</mark>\n",
       " call for foreign fighters.</br></div></span>"
      ],
      "text/plain": [
       "<IPython.core.display.HTML object>"
      ]
     },
     "metadata": {},
     "output_type": "display_data"
    },
    {
     "name": "stdout",
     "output_type": "stream",
     "text": [
      "Yahoo PROPN compound ORG\n",
      "News PROPN ROOT ORG\n",
      "\n",
      "Canadians PROPN nsubj NORP\n",
      "\n",
      "Ukraine PROPN dobj GPE\n",
      "\n",
      "------------------------------------------\n"
     ]
    },
    {
     "data": {
      "text/html": [
       "<span class=\"tex2jax_ignore\"><div class=\"entities\" style=\"line-height: 2.5; direction: ltr\">\n",
       "<mark class=\"entity\" style=\"background: #7aecec; padding: 0.45em 0.6em; margin: 0 0.25em; line-height: 1; border-radius: 0.35em;\">\n",
       "    Mariupol\n",
       "    <span style=\"font-size: 0.8em; font-weight: bold; line-height: 1; border-radius: 0.35em; vertical-align: middle; margin-left: 0.5rem\">ORG</span>\n",
       "</mark>\n",
       " is in \n",
       "<mark class=\"entity\" style=\"background: #ddd; padding: 0.45em 0.6em; margin: 0 0.25em; line-height: 1; border-radius: 0.35em;\">\n",
       "    Russian hands\n",
       "    <span style=\"font-size: 0.8em; font-weight: bold; line-height: 1; border-radius: 0.35em; vertical-align: middle; margin-left: 0.5rem\">NP</span>\n",
       "</mark>\n",
       ". </div></span>"
      ],
      "text/plain": [
       "<IPython.core.display.HTML object>"
      ]
     },
     "metadata": {},
     "output_type": "display_data"
    },
    {
     "name": "stdout",
     "output_type": "stream",
     "text": [
      "Mariupol PROPN nsubj ORG\n",
      "\n",
      "Russian ADJ amod NP\n",
      "hands NOUN pobj NP\n",
      "\n",
      "------------------------------------------\n"
     ]
    },
    {
     "data": {
      "text/html": [
       "<span class=\"tex2jax_ignore\"><div class=\"entities\" style=\"line-height: 2.5; direction: ltr\">Well, at least Biden talks to \n",
       "<mark class=\"entity\" style=\"background: #aa9cfc; padding: 0.45em 0.6em; margin: 0 0.25em; line-height: 1; border-radius: 0.35em;\">\n",
       "    Zelensky\n",
       "    <span style=\"font-size: 0.8em; font-weight: bold; line-height: 1; border-radius: 0.35em; vertical-align: middle; margin-left: 0.5rem\">PERSON</span>\n",
       "</mark>\n",
       " encouragingly.</div></span>"
      ],
      "text/plain": [
       "<IPython.core.display.HTML object>"
      ]
     },
     "metadata": {},
     "output_type": "display_data"
    },
    {
     "name": "stdout",
     "output_type": "stream",
     "text": [
      "Zelensky PROPN pobj PERSON\n",
      "\n",
      "------------------------------------------\n"
     ]
    },
    {
     "data": {
      "text/html": [
       "<span class=\"tex2jax_ignore\"><div class=\"entities\" style=\"line-height: 2.5; direction: ltr\">My senator, \n",
       "<mark class=\"entity\" style=\"background: #aa9cfc; padding: 0.45em 0.6em; margin: 0 0.25em; line-height: 1; border-radius: 0.35em;\">\n",
       "    Marsha Blackburn\n",
       "    <span style=\"font-size: 0.8em; font-weight: bold; line-height: 1; border-radius: 0.35em; vertical-align: middle; margin-left: 0.5rem\">PERSON</span>\n",
       "</mark>\n",
       ", voted 'NO' on aid</br>to \n",
       "<mark class=\"entity\" style=\"background: #feca74; padding: 0.45em 0.6em; margin: 0 0.25em; line-height: 1; border-radius: 0.35em;\">\n",
       "    Ukraine\n",
       "    <span style=\"font-size: 0.8em; font-weight: bold; line-height: 1; border-radius: 0.35em; vertical-align: middle; margin-left: 0.5rem\">GPE</span>\n",
       "</mark>\n",
       ". The party of \n",
       "<mark class=\"entity\" style=\"background: #aa9cfc; padding: 0.45em 0.6em; margin: 0 0.25em; line-height: 1; border-radius: 0.35em;\">\n",
       "    Putin\n",
       "    <span style=\"font-size: 0.8em; font-weight: bold; line-height: 1; border-radius: 0.35em; vertical-align: middle; margin-left: 0.5rem\">PERSON</span>\n",
       "</mark>\n",
       " is heartless.</br>I can't wait to vote her out of office.</div></span>"
      ],
      "text/plain": [
       "<IPython.core.display.HTML object>"
      ]
     },
     "metadata": {},
     "output_type": "display_data"
    },
    {
     "name": "stdout",
     "output_type": "stream",
     "text": [
      "Marsha PROPN compound PERSON\n",
      "Blackburn PROPN appos PERSON\n",
      "\n",
      "Ukraine PROPN pobj GPE\n",
      "\n",
      "Putin PROPN pobj PERSON\n",
      "\n",
      "------------------------------------------\n"
     ]
    },
    {
     "data": {
      "text/html": [
       "<span class=\"tex2jax_ignore\"><div class=\"entities\" style=\"line-height: 2.5; direction: ltr\">Today, 25th March, at 4.30pm, \n",
       "<mark class=\"entity\" style=\"background: #ddd; padding: 0.45em 0.6em; margin: 0 0.25em; line-height: 1; border-radius: 0.35em;\">\n",
       "    Russian occupiers\n",
       "    <span style=\"font-size: 0.8em; font-weight: bold; line-height: 1; border-radius: 0.35em; vertical-align: middle; margin-left: 0.5rem\">NP</span>\n",
       "</mark>\n",
       " launched a missile strike on the territory of the \n",
       "<mark class=\"entity\" style=\"background: #7aecec; padding: 0.45em 0.6em; margin: 0 0.25em; line-height: 1; border-radius: 0.35em;\">\n",
       "    Air Force Command\n",
       "    <span style=\"font-size: 0.8em; font-weight: bold; line-height: 1; border-radius: 0.35em; vertical-align: middle; margin-left: 0.5rem\">ORG</span>\n",
       "</mark>\n",
       " of the Armed Forces of Ukraine in \n",
       "<mark class=\"entity\" style=\"background: #feca74; padding: 0.45em 0.6em; margin: 0 0.25em; line-height: 1; border-radius: 0.35em;\">\n",
       "    Vinnytsia\n",
       "    <span style=\"font-size: 0.8em; font-weight: bold; line-height: 1; border-radius: 0.35em; vertical-align: middle; margin-left: 0.5rem\">GPE</span>\n",
       "</mark>\n",
       ".</br>The \n",
       "<mark class=\"entity\" style=\"background: #c887fb; padding: 0.45em 0.6em; margin: 0 0.25em; line-height: 1; border-radius: 0.35em;\">\n",
       "    Russians\n",
       "    <span style=\"font-size: 0.8em; font-weight: bold; line-height: 1; border-radius: 0.35em; vertical-align: middle; margin-left: 0.5rem\">NORP</span>\n",
       "</mark>\n",
       " fired 6 cruise missiles. Some of them were shot down by air defenses. The rest - hit several buildings. </div></span>"
      ],
      "text/plain": [
       "<IPython.core.display.HTML object>"
      ]
     },
     "metadata": {},
     "output_type": "display_data"
    },
    {
     "name": "stdout",
     "output_type": "stream",
     "text": [
      "Russian ADJ amod NP\n",
      "occupiers NOUN nsubj NP\n",
      "\n",
      "Air PROPN compound ORG\n",
      "Force PROPN compound ORG\n",
      "Command PROPN pobj ORG\n",
      "\n",
      "Vinnytsia PROPN pobj GPE\n",
      "\n",
      "Russians PROPN nsubj NORP\n",
      "\n",
      "------------------------------------------\n"
     ]
    },
    {
     "data": {
      "text/html": [
       "<span class=\"tex2jax_ignore\"><div class=\"entities\" style=\"line-height: 2.5; direction: ltr\">BREAKING</br>The \n",
       "<mark class=\"entity\" style=\"background: #feca74; padding: 0.45em 0.6em; margin: 0 0.25em; line-height: 1; border-radius: 0.35em;\">\n",
       "    US\n",
       "    <span style=\"font-size: 0.8em; font-weight: bold; line-height: 1; border-radius: 0.35em; vertical-align: middle; margin-left: 0.5rem\">GPE</span>\n",
       "</mark>\n",
       " BANS \n",
       "<mark class=\"entity\" style=\"background: #ddd; padding: 0.45em 0.6em; margin: 0 0.25em; line-height: 1; border-radius: 0.35em;\">\n",
       "    RUSSIAN OIL\n",
       "    <span style=\"font-size: 0.8em; font-weight: bold; line-height: 1; border-radius: 0.35em; vertical-align: middle; margin-left: 0.5rem\">NP</span>\n",
       "</mark>\n",
       ", GAS AND COAL!</div></span>"
      ],
      "text/plain": [
       "<IPython.core.display.HTML object>"
      ]
     },
     "metadata": {},
     "output_type": "display_data"
    },
    {
     "name": "stdout",
     "output_type": "stream",
     "text": [
      "US PROPN nsubj GPE\n",
      "\n",
      "RUSSIAN ADJ amod NP\n",
      "OIL NOUN dobj NP\n",
      "\n",
      "------------------------------------------\n"
     ]
    },
    {
     "data": {
      "text/html": [
       "<span class=\"tex2jax_ignore\"><div class=\"entities\" style=\"line-height: 2.5; direction: ltr\">Would absolutely hate to live in \n",
       "<mark class=\"entity\" style=\"background: #feca74; padding: 0.45em 0.6em; margin: 0 0.25em; line-height: 1; border-radius: 0.35em;\">\n",
       "    russia\n",
       "    <span style=\"font-size: 0.8em; font-weight: bold; line-height: 1; border-radius: 0.35em; vertical-align: middle; margin-left: 0.5rem\">GPE</span>\n",
       "</mark>\n",
       "</div></span>"
      ],
      "text/plain": [
       "<IPython.core.display.HTML object>"
      ]
     },
     "metadata": {},
     "output_type": "display_data"
    },
    {
     "name": "stdout",
     "output_type": "stream",
     "text": [
      "russia PROPN pobj GPE\n",
      "\n",
      "------------------------------------------\n"
     ]
    },
    {
     "data": {
      "text/html": [
       "<span class=\"tex2jax_ignore\"><div class=\"entities\" style=\"line-height: 2.5; direction: ltr\">Shared with @AymanM the challenge I had trying to talk with my eight year old son about what's happening in \n",
       "<mark class=\"entity\" style=\"background: #feca74; padding: 0.45em 0.6em; margin: 0 0.25em; line-height: 1; border-radius: 0.35em;\">\n",
       "    Ukraine\n",
       "    <span style=\"font-size: 0.8em; font-weight: bold; line-height: 1; border-radius: 0.35em; vertical-align: middle; margin-left: 0.5rem\">GPE</span>\n",
       "</mark>\n",
       " and what we are doing to help... </div></span>"
      ],
      "text/plain": [
       "<IPython.core.display.HTML object>"
      ]
     },
     "metadata": {},
     "output_type": "display_data"
    },
    {
     "name": "stdout",
     "output_type": "stream",
     "text": [
      "Ukraine PROPN pobj GPE\n",
      "\n",
      "------------------------------------------\n"
     ]
    },
    {
     "data": {
      "text/html": [
       "<span class=\"tex2jax_ignore\"><div class=\"entities\" style=\"line-height: 2.5; direction: ltr\">\n",
       "<mark class=\"entity\" style=\"background: #7aecec; padding: 0.45em 0.6em; margin: 0 0.25em; line-height: 1; border-radius: 0.35em;\">\n",
       "    FCC\n",
       "    <span style=\"font-size: 0.8em; font-weight: bold; line-height: 1; border-radius: 0.35em; vertical-align: middle; margin-left: 0.5rem\">ORG</span>\n",
       "</mark>\n",
       " says \n",
       "<mark class=\"entity\" style=\"background: #7aecec; padding: 0.45em 0.6em; margin: 0 0.25em; line-height: 1; border-radius: 0.35em;\">\n",
       "    Russian anti-virus firm Kaspersky\n",
       "    <span style=\"font-size: 0.8em; font-weight: bold; line-height: 1; border-radius: 0.35em; vertical-align: middle; margin-left: 0.5rem\">ORG</span>\n",
       "</mark>\n",
       " poses risk to \n",
       "<mark class=\"entity\" style=\"background: #ddd; padding: 0.45em 0.6em; margin: 0 0.25em; line-height: 1; border-radius: 0.35em;\">\n",
       "    U.S. national security\n",
       "    <span style=\"font-size: 0.8em; font-weight: bold; line-height: 1; border-radius: 0.35em; vertical-align: middle; margin-left: 0.5rem\">NP</span>\n",
       "</mark>\n",
       " </div></span>"
      ],
      "text/plain": [
       "<IPython.core.display.HTML object>"
      ]
     },
     "metadata": {},
     "output_type": "display_data"
    },
    {
     "name": "stdout",
     "output_type": "stream",
     "text": [
      "FCC PROPN nsubj ORG\n",
      "\n",
      "Russian ADJ amod ORG\n",
      "anti ADJ amod ORG\n",
      "- ADJ amod ORG\n",
      "virus ADJ amod ORG\n",
      "firm NOUN compound ORG\n",
      "Kaspersky PROPN nsubj ORG\n",
      "\n",
      "U.S. PROPN nmod NP\n",
      "national ADJ amod NP\n",
      "security NOUN pobj NP\n",
      "\n",
      "------------------------------------------\n"
     ]
    },
    {
     "data": {
      "text/html": [
       "<span class=\"tex2jax_ignore\"><div class=\"entities\" style=\"line-height: 2.5; direction: ltr\">6366 Sanctions are Imposed on \n",
       "<mark class=\"entity\" style=\"background: #feca74; padding: 0.45em 0.6em; margin: 0 0.25em; line-height: 1; border-radius: 0.35em;\">\n",
       "    russia\n",
       "    <span style=\"font-size: 0.8em; font-weight: bold; line-height: 1; border-radius: 0.35em; vertical-align: middle; margin-left: 0.5rem\">GPE</span>\n",
       "</mark>\n",
       ", yet \n",
       "<mark class=\"entity\" style=\"background: #feca74; padding: 0.45em 0.6em; margin: 0 0.25em; line-height: 1; border-radius: 0.35em;\">\n",
       "    Ukraine\n",
       "    <span style=\"font-size: 0.8em; font-weight: bold; line-height: 1; border-radius: 0.35em; vertical-align: middle; margin-left: 0.5rem\">GPE</span>\n",
       "</mark>\n",
       " and Partners are working on full close of bypasses. - Kuleba</br></div></span>"
      ],
      "text/plain": [
       "<IPython.core.display.HTML object>"
      ]
     },
     "metadata": {},
     "output_type": "display_data"
    },
    {
     "name": "stdout",
     "output_type": "stream",
     "text": [
      "russia PROPN pobj GPE\n",
      "\n",
      "Ukraine PROPN nsubj GPE\n",
      "\n",
      "------------------------------------------\n"
     ]
    },
    {
     "data": {
      "text/html": [
       "<span class=\"tex2jax_ignore\"><div class=\"entities\" style=\"line-height: 2.5; direction: ltr\">To\n",
       "<mark class=\"entity\" style=\"background: #aa9cfc; padding: 0.45em 0.6em; margin: 0 0.25em; line-height: 1; border-radius: 0.35em;\">\n",
       "    , Joy Reid\n",
       "    <span style=\"font-size: 0.8em; font-weight: bold; line-height: 1; border-radius: 0.35em; vertical-align: middle; margin-left: 0.5rem\">PERSON</span>\n",
       "</mark>\n",
       " \n",
       "<mark class=\"entity\" style=\"background: #7aecec; padding: 0.45em 0.6em; margin: 0 0.25em; line-height: 1; border-radius: 0.35em;\">\n",
       "    (MSNBC\n",
       "    <span style=\"font-size: 0.8em; font-weight: bold; line-height: 1; border-radius: 0.35em; vertical-align: middle; margin-left: 0.5rem\">ORG</span>\n",
       "</mark>\n",
       "), \n",
       "<mark class=\"entity\" style=\"background: #aa9cfc; padding: 0.45em 0.6em; margin: 0 0.25em; line-height: 1; border-radius: 0.35em;\">\n",
       "    Nikole Hannah-Jones\n",
       "    <span style=\"font-size: 0.8em; font-weight: bold; line-height: 1; border-radius: 0.35em; vertical-align: middle; margin-left: 0.5rem\">PERSON</span>\n",
       "</mark>\n",
       " \n",
       "<mark class=\"entity\" style=\"background: #ddd; padding: 0.45em 0.6em; margin: 0 0.25em; line-height: 1; border-radius: 0.35em;\">\n",
       "    (1619 BS) Ukraine war\n",
       "    <span style=\"font-size: 0.8em; font-weight: bold; line-height: 1; border-radius: 0.35em; vertical-align: middle; margin-left: 0.5rem\">NP</span>\n",
       "</mark>\n",
       " is &quot;white racists propaganda) add that to \n",
       "<mark class=\"entity\" style=\"background: #aa9cfc; padding: 0.45em 0.6em; margin: 0 0.25em; line-height: 1; border-radius: 0.35em;\">\n",
       "    Ilhan Omar\n",
       "    <span style=\"font-size: 0.8em; font-weight: bold; line-height: 1; border-radius: 0.35em; vertical-align: middle; margin-left: 0.5rem\">PERSON</span>\n",
       "</mark>\n",
       " \n",
       "<mark class=\"entity\" style=\"background: #7aecec; padding: 0.45em 0.6em; margin: 0 0.25em; line-height: 1; border-radius: 0.35em;\">\n",
       "    (AOC Goon SQUAD\n",
       "    <span style=\"font-size: 0.8em; font-weight: bold; line-height: 1; border-radius: 0.35em; vertical-align: middle; margin-left: 0.5rem\">ORG</span>\n",
       "</mark>\n",
       "), \n",
       "<mark class=\"entity\" style=\"background: #ffeb80; padding: 0.45em 0.6em; margin: 0 0.25em; line-height: 1; border-radius: 0.35em;\">\n",
       "    Ukraine War\n",
       "    <span style=\"font-size: 0.8em; font-weight: bold; line-height: 1; border-radius: 0.35em; vertical-align: middle; margin-left: 0.5rem\">EVENT</span>\n",
       "</mark>\n",
       " is not a &quot;humanitarian crisis&quot; you know the \n",
       "<mark class=\"entity\" style=\"background: #feca74; padding: 0.45em 0.6em; margin: 0 0.25em; line-height: 1; border-radius: 0.35em;\">\n",
       "    US\n",
       "    <span style=\"font-size: 0.8em; font-weight: bold; line-height: 1; border-radius: 0.35em; vertical-align: middle; margin-left: 0.5rem\">GPE</span>\n",
       "</mark>\n",
       " has descended to armageddon of filth and degradation of humanity. Karma is near 4 thee </div></span>"
      ],
      "text/plain": [
       "<IPython.core.display.HTML object>"
      ]
     },
     "metadata": {},
     "output_type": "display_data"
    },
    {
     "name": "stdout",
     "output_type": "stream",
     "text": [
      ", PUNCT punct PERSON\n",
      "Joy PROPN compound PERSON\n",
      "Reid PROPN pobj PERSON\n",
      "\n",
      "( PUNCT punct ORG\n",
      "MSNBC PROPN appos ORG\n",
      "\n",
      "Nikole PROPN compound PERSON\n",
      "Hannah PROPN compound PERSON\n",
      "- PUNCT punct PERSON\n",
      "Jones PROPN nsubj PERSON\n",
      "\n",
      "( PUNCT punct NP\n",
      "1619 NUM nummod NP\n",
      "BS PROPN nmod NP\n",
      ") PUNCT punct NP\n",
      "Ukraine PROPN compound NP\n",
      "war NOUN appos NP\n",
      "\n",
      "Ilhan PROPN compound PERSON\n",
      "Omar PROPN pobj PERSON\n",
      "\n",
      "( PUNCT punct ORG\n",
      "AOC PROPN compound ORG\n",
      "Goon PROPN compound ORG\n",
      "SQUAD PROPN appos ORG\n",
      "\n",
      "Ukraine PROPN compound EVENT\n",
      "War PROPN nsubj EVENT\n",
      "\n",
      "US PROPN nsubj GPE\n",
      "\n",
      "------------------------------------------\n"
     ]
    },
    {
     "data": {
      "text/html": [
       "<span class=\"tex2jax_ignore\"><div class=\"entities\" style=\"line-height: 2.5; direction: ltr\">\n",
       "<mark class=\"entity\" style=\"background: #aa9cfc; padding: 0.45em 0.6em; margin: 0 0.25em; line-height: 1; border-radius: 0.35em;\">\n",
       "    Putin\n",
       "    <span style=\"font-size: 0.8em; font-weight: bold; line-height: 1; border-radius: 0.35em; vertical-align: middle; margin-left: 0.5rem\">PERSON</span>\n",
       "</mark>\n",
       " doesn't have an endgame. All \n",
       "<mark class=\"entity\" style=\"background: #7aecec; padding: 0.45em 0.6em; margin: 0 0.25em; line-height: 1; border-radius: 0.35em;\">\n",
       "    Bidenomics\n",
       "    <span style=\"font-size: 0.8em; font-weight: bold; line-height: 1; border-radius: 0.35em; vertical-align: middle; margin-left: 0.5rem\">ORG</span>\n",
       "</mark>\n",
       "</div></span>"
      ],
      "text/plain": [
       "<IPython.core.display.HTML object>"
      ]
     },
     "metadata": {},
     "output_type": "display_data"
    },
    {
     "name": "stdout",
     "output_type": "stream",
     "text": [
      "Putin PROPN nsubj PERSON\n",
      "\n",
      "Bidenomics PROPN ROOT ORG\n",
      "\n",
      "------------------------------------------\n"
     ]
    },
    {
     "data": {
      "text/html": [
       "<span class=\"tex2jax_ignore\"><div class=\"entities\" style=\"line-height: 2.5; direction: ltr\">A love letter to the business community for standing against \n",
       "<mark class=\"entity\" style=\"background: #ddd; padding: 0.45em 0.6em; margin: 0 0.25em; line-height: 1; border-radius: 0.35em;\">\n",
       "    Russian aggression\n",
       "    <span style=\"font-size: 0.8em; font-weight: bold; line-height: 1; border-radius: 0.35em; vertical-align: middle; margin-left: 0.5rem\">NP</span>\n",
       "</mark>\n",
       ". UkraineUnderAttack \n",
       "<mark class=\"entity\" style=\"background: #ddd; padding: 0.45em 0.6em; margin: 0 0.25em; line-height: 1; border-radius: 0.35em;\">\n",
       "    AdolfPutin business\n",
       "    <span style=\"font-size: 0.8em; font-weight: bold; line-height: 1; border-radius: 0.35em; vertical-align: middle; margin-left: 0.5rem\">NP</span>\n",
       "</mark>\n",
       " </div></span>"
      ],
      "text/plain": [
       "<IPython.core.display.HTML object>"
      ]
     },
     "metadata": {},
     "output_type": "display_data"
    },
    {
     "name": "stdout",
     "output_type": "stream",
     "text": [
      "Russian ADJ amod NP\n",
      "aggression NOUN pobj NP\n",
      "\n",
      "AdolfPutin PROPN compound NP\n",
      "business NOUN ROOT NP\n",
      "\n",
      "------------------------------------------\n"
     ]
    },
    {
     "data": {
      "text/html": [
       "<span class=\"tex2jax_ignore\"><div class=\"entities\" style=\"line-height: 2.5; direction: ltr\">\n",
       "<mark class=\"entity\" style=\"background: #ddd; padding: 0.45em 0.6em; margin: 0 0.25em; line-height: 1; border-radius: 0.35em;\">\n",
       "    Russia-Ukraine War Updates\n",
       "    <span style=\"font-size: 0.8em; font-weight: bold; line-height: 1; border-radius: 0.35em; vertical-align: middle; margin-left: 0.5rem\">NP</span>\n",
       "</mark>\n",
       ": Day 32 of \n",
       "<mark class=\"entity\" style=\"background: #feca74; padding: 0.45em 0.6em; margin: 0 0.25em; line-height: 1; border-radius: 0.35em;\">\n",
       "    Putin's invasion - India\n",
       "    <span style=\"font-size: 0.8em; font-weight: bold; line-height: 1; border-radius: 0.35em; vertical-align: middle; margin-left: 0.5rem\">GPE</span>\n",
       "</mark>\n",
       " Today </div></span>"
      ],
      "text/plain": [
       "<IPython.core.display.HTML object>"
      ]
     },
     "metadata": {},
     "output_type": "display_data"
    },
    {
     "name": "stdout",
     "output_type": "stream",
     "text": [
      "Russia PROPN compound NP\n",
      "- PUNCT punct NP\n",
      "Ukraine PROPN compound NP\n",
      "War PROPN compound NP\n",
      "Updates PROPN ROOT NP\n",
      "\n",
      "Putin PROPN poss GPE\n",
      "'s PART case GPE\n",
      "invasion NOUN compound GPE\n",
      "- PUNCT punct GPE\n",
      "India PROPN pobj GPE\n",
      "\n",
      "------------------------------------------\n"
     ]
    },
    {
     "data": {
      "text/html": [
       "<span class=\"tex2jax_ignore\"><div class=\"entities\" style=\"line-height: 2.5; direction: ltr\">\n",
       "<mark class=\"entity\" style=\"background: #aa9cfc; padding: 0.45em 0.6em; margin: 0 0.25em; line-height: 1; border-radius: 0.35em;\">\n",
       "    Russian former F1 driver Nikita Mazepin\n",
       "    <span style=\"font-size: 0.8em; font-weight: bold; line-height: 1; border-radius: 0.35em; vertical-align: middle; margin-left: 0.5rem\">PERSON</span>\n",
       "</mark>\n",
       " and \n",
       "<mark class=\"entity\" style=\"background: #aa9cfc; padding: 0.45em 0.6em; margin: 0 0.25em; line-height: 1; border-radius: 0.35em;\">\n",
       "    father Dmitry\n",
       "    <span style=\"font-size: 0.8em; font-weight: bold; line-height: 1; border-radius: 0.35em; vertical-align: middle; margin-left: 0.5rem\">PERSON</span>\n",
       "</mark>\n",
       " included on \n",
       "<mark class=\"entity\" style=\"background: #ddd; padding: 0.45em 0.6em; margin: 0 0.25em; line-height: 1; border-radius: 0.35em;\">\n",
       "    EU sanctions list\n",
       "    <span style=\"font-size: 0.8em; font-weight: bold; line-height: 1; border-radius: 0.35em; vertical-align: middle; margin-left: 0.5rem\">NP</span>\n",
       "</mark>\n",
       " </div></span>"
      ],
      "text/plain": [
       "<IPython.core.display.HTML object>"
      ]
     },
     "metadata": {},
     "output_type": "display_data"
    },
    {
     "name": "stdout",
     "output_type": "stream",
     "text": [
      "Russian ADJ amod PERSON\n",
      "former ADJ amod PERSON\n",
      "F1 PROPN compound PERSON\n",
      "driver NOUN compound PERSON\n",
      "Nikita PROPN compound PERSON\n",
      "Mazepin PROPN nsubj PERSON\n",
      "\n",
      "father PROPN compound PERSON\n",
      "Dmitry PROPN conj PERSON\n",
      "\n",
      "EU PROPN compound NP\n",
      "sanctions NOUN compound NP\n",
      "list NOUN pobj NP\n",
      "\n",
      "------------------------------------------\n"
     ]
    },
    {
     "data": {
      "text/html": [
       "<span class=\"tex2jax_ignore\"><div class=\"entities\" style=\"line-height: 2.5; direction: ltr\">LET PRO PEACE HACKERS FREEZE ALL BANK ACCOUNTS OF \n",
       "<mark class=\"entity\" style=\"background: #ddd; padding: 0.45em 0.6em; margin: 0 0.25em; line-height: 1; border-radius: 0.35em;\">\n",
       "    RUSSIAN SOLDIERS\n",
       "    <span style=\"font-size: 0.8em; font-weight: bold; line-height: 1; border-radius: 0.35em; vertical-align: middle; margin-left: 0.5rem\">NP</span>\n",
       "</mark>\n",
       ", AND OTHER MEN-TOYS OF THE CRAZY DICTATOR PUTIN!!! BIG THANKS !</div></span>"
      ],
      "text/plain": [
       "<IPython.core.display.HTML object>"
      ]
     },
     "metadata": {},
     "output_type": "display_data"
    },
    {
     "name": "stdout",
     "output_type": "stream",
     "text": [
      "RUSSIAN ADJ amod NP\n",
      "SOLDIERS NOUN pobj NP\n",
      "\n",
      "------------------------------------------\n"
     ]
    },
    {
     "data": {
      "text/html": [
       "<span class=\"tex2jax_ignore\"><div class=\"entities\" style=\"line-height: 2.5; direction: ltr\">He just can't/won't stop sucking up to putin, \n",
       "<mark class=\"entity\" style=\"background: #aa9cfc; padding: 0.45em 0.6em; margin: 0 0.25em; line-height: 1; border-radius: 0.35em;\">\n",
       "    Xi\n",
       "    <span style=\"font-size: 0.8em; font-weight: bold; line-height: 1; border-radius: 0.35em; vertical-align: middle; margin-left: 0.5rem\">PERSON</span>\n",
       "</mark>\n",
       " and \n",
       "<mark class=\"entity\" style=\"background: #aa9cfc; padding: 0.45em 0.6em; margin: 0 0.25em; line-height: 1; border-radius: 0.35em;\">\n",
       "    Kim\n",
       "    <span style=\"font-size: 0.8em; font-weight: bold; line-height: 1; border-radius: 0.35em; vertical-align: middle; margin-left: 0.5rem\">PERSON</span>\n",
       "</mark>\n",
       "...WTAF! Why does the \n",
       "<mark class=\"entity\" style=\"background: #7aecec; padding: 0.45em 0.6em; margin: 0 0.25em; line-height: 1; border-radius: 0.35em;\">\n",
       "    GOP\n",
       "    <span style=\"font-size: 0.8em; font-weight: bold; line-height: 1; border-radius: 0.35em; vertical-align: middle; margin-left: 0.5rem\">ORG</span>\n",
       "</mark>\n",
       " not see this.</div></span>"
      ],
      "text/plain": [
       "<IPython.core.display.HTML object>"
      ]
     },
     "metadata": {},
     "output_type": "display_data"
    },
    {
     "name": "stdout",
     "output_type": "stream",
     "text": [
      "Xi PROPN conj PERSON\n",
      "\n",
      "Kim PROPN conj PERSON\n",
      "\n",
      "GOP PROPN nsubj ORG\n",
      "\n",
      "------------------------------------------\n"
     ]
    },
    {
     "data": {
      "text/html": [
       "<span class=\"tex2jax_ignore\"><div class=\"entities\" style=\"line-height: 2.5; direction: ltr\">The cowardice of the \n",
       "<mark class=\"entity\" style=\"background: #7aecec; padding: 0.45em 0.6em; margin: 0 0.25em; line-height: 1; border-radius: 0.35em;\">\n",
       "    EU\n",
       "    <span style=\"font-size: 0.8em; font-weight: bold; line-height: 1; border-radius: 0.35em; vertical-align: middle; margin-left: 0.5rem\">ORG</span>\n",
       "</mark>\n",
       " and NATO leaders?To bow to \n",
       "<mark class=\"entity\" style=\"background: #ddd; padding: 0.45em 0.6em; margin: 0 0.25em; line-height: 1; border-radius: 0.35em;\">\n",
       "    Putin's orders\n",
       "    <span style=\"font-size: 0.8em; font-weight: bold; line-height: 1; border-radius: 0.35em; vertical-align: middle; margin-left: 0.5rem\">NP</span>\n",
       "</mark>\n",
       " and not to oppose. Do not engage militarily in \n",
       "<mark class=\"entity\" style=\"background: #feca74; padding: 0.45em 0.6em; margin: 0 0.25em; line-height: 1; border-radius: 0.35em;\">\n",
       "    Ukraine\n",
       "    <span style=\"font-size: 0.8em; font-weight: bold; line-height: 1; border-radius: 0.35em; vertical-align: middle; margin-left: 0.5rem\">GPE</span>\n",
       "</mark>\n",
       ".Applaud the courage of the \n",
       "<mark class=\"entity\" style=\"background: #c887fb; padding: 0.45em 0.6em; margin: 0 0.25em; line-height: 1; border-radius: 0.35em;\">\n",
       "    Ukrainians\n",
       "    <span style=\"font-size: 0.8em; font-weight: bold; line-height: 1; border-radius: 0.35em; vertical-align: middle; margin-left: 0.5rem\">NORP</span>\n",
       "</mark>\n",
       ".Welcome millions of refugees. Postpone the indirect cost of sanctions on \n",
       "<mark class=\"entity\" style=\"background: #ddd; padding: 0.45em 0.6em; margin: 0 0.25em; line-height: 1; border-radius: 0.35em;\">\n",
       "    450.000 Europeans EmmanuelMacron UKRinUNOG\n",
       "    <span style=\"font-size: 0.8em; font-weight: bold; line-height: 1; border-radius: 0.35em; vertical-align: middle; margin-left: 0.5rem\">NP</span>\n",
       "</mark>\n",
       "</div></span>"
      ],
      "text/plain": [
       "<IPython.core.display.HTML object>"
      ]
     },
     "metadata": {},
     "output_type": "display_data"
    },
    {
     "name": "stdout",
     "output_type": "stream",
     "text": [
      "EU PROPN pobj ORG\n",
      "\n",
      "Putin PROPN poss NP\n",
      "'s PART case NP\n",
      "orders NOUN pobj NP\n",
      "\n",
      "Ukraine PROPN pobj GPE\n",
      "\n",
      "Ukrainians PROPN pobj NORP\n",
      "\n",
      "450.000 NUM nummod NP\n",
      "Europeans PROPN compound NP\n",
      "EmmanuelMacron PROPN compound NP\n",
      "UKRinUNOG NOUN pobj NP\n",
      "\n",
      "------------------------------------------\n"
     ]
    },
    {
     "data": {
      "text/html": [
       "<span class=\"tex2jax_ignore\"><div class=\"entities\" style=\"line-height: 2.5; direction: ltr\">US Dollar Could EXPLODE After Putin Demands Countries Use Ruble To Buy Oil </div></span>"
      ],
      "text/plain": [
       "<IPython.core.display.HTML object>"
      ]
     },
     "metadata": {},
     "output_type": "display_data"
    },
    {
     "name": "stdout",
     "output_type": "stream",
     "text": [
      "------------------------------------------\n"
     ]
    },
    {
     "data": {
      "text/html": [
       "<span class=\"tex2jax_ignore\"><div class=\"entities\" style=\"line-height: 2.5; direction: ltr\">Levin: What Does \n",
       "<mark class=\"entity\" style=\"background: #ddd; padding: 0.45em 0.6em; margin: 0 0.25em; line-height: 1; border-radius: 0.35em;\">\n",
       "    Ukraine/Russia\n",
       "    <span style=\"font-size: 0.8em; font-weight: bold; line-height: 1; border-radius: 0.35em; vertical-align: middle; margin-left: 0.5rem\">NP</span>\n",
       "</mark>\n",
       " Have To Do With \n",
       "<mark class=\"entity\" style=\"background: #feca74; padding: 0.45em 0.6em; margin: 0 0.25em; line-height: 1; border-radius: 0.35em;\">\n",
       "    America\n",
       "    <span style=\"font-size: 0.8em; font-weight: bold; line-height: 1; border-radius: 0.35em; vertical-align: middle; margin-left: 0.5rem\">GPE</span>\n",
       "</mark>\n",
       "? Everything </div></span>"
      ],
      "text/plain": [
       "<IPython.core.display.HTML object>"
      ]
     },
     "metadata": {},
     "output_type": "display_data"
    },
    {
     "name": "stdout",
     "output_type": "stream",
     "text": [
      "Ukraine PROPN nmod NP\n",
      "/ SYM punct NP\n",
      "Russia PROPN nsubj NP\n",
      "\n",
      "America PROPN pobj GPE\n",
      "\n",
      "------------------------------------------\n"
     ]
    },
    {
     "data": {
      "text/html": [
       "<span class=\"tex2jax_ignore\"><div class=\"entities\" style=\"line-height: 2.5; direction: ltr\">'My Camera Is My Shield': A \n",
       "<mark class=\"entity\" style=\"background: #f0d0ff; padding: 0.45em 0.6em; margin: 0 0.25em; line-height: 1; border-radius: 0.35em;\">\n",
       "    Ukrainian Photojournalist's War Diary\n",
       "    <span style=\"font-size: 0.8em; font-weight: bold; line-height: 1; border-radius: 0.35em; vertical-align: middle; margin-left: 0.5rem\">WORK_OF_ART</span>\n",
       "</mark>\n",
       "  via @viceworldnews</div></span>"
      ],
      "text/plain": [
       "<IPython.core.display.HTML object>"
      ]
     },
     "metadata": {},
     "output_type": "display_data"
    },
    {
     "name": "stdout",
     "output_type": "stream",
     "text": [
      "Ukrainian ADJ amod WORK_OF_ART\n",
      "Photojournalist PROPN poss WORK_OF_ART\n",
      "'s PART case WORK_OF_ART\n",
      "War PROPN compound WORK_OF_ART\n",
      "Diary PROPN ROOT WORK_OF_ART\n",
      "\n",
      "------------------------------------------\n"
     ]
    },
    {
     "data": {
      "text/html": [
       "<span class=\"tex2jax_ignore\"><div class=\"entities\" style=\"line-height: 2.5; direction: ltr\">&quot;\n",
       "<mark class=\"entity\" style=\"background: #feca74; padding: 0.45em 0.6em; margin: 0 0.25em; line-height: 1; border-radius: 0.35em;\">\n",
       "    Russia\n",
       "    <span style=\"font-size: 0.8em; font-weight: bold; line-height: 1; border-radius: 0.35em; vertical-align: middle; margin-left: 0.5rem\">GPE</span>\n",
       "</mark>\n",
       " starting a war with \n",
       "<mark class=\"entity\" style=\"background: #feca74; padding: 0.45em 0.6em; margin: 0 0.25em; line-height: 1; border-radius: 0.35em;\">\n",
       "    Ukraine\n",
       "    <span style=\"font-size: 0.8em; font-weight: bold; line-height: 1; border-radius: 0.35em; vertical-align: middle; margin-left: 0.5rem\">GPE</span>\n",
       "</mark>\n",
       ", see the end is near&quot; bitch there's been countless wars going on since the beginning of time. 😩 And where were you with this for the years that \n",
       "<mark class=\"entity\" style=\"background: #feca74; padding: 0.45em 0.6em; margin: 0 0.25em; line-height: 1; border-radius: 0.35em;\">\n",
       "    Afghanistan\n",
       "    <span style=\"font-size: 0.8em; font-weight: bold; line-height: 1; border-radius: 0.35em; vertical-align: middle; margin-left: 0.5rem\">GPE</span>\n",
       "</mark>\n",
       " has been at war? Bruh</div></span>"
      ],
      "text/plain": [
       "<IPython.core.display.HTML object>"
      ]
     },
     "metadata": {},
     "output_type": "display_data"
    },
    {
     "name": "stdout",
     "output_type": "stream",
     "text": [
      "Russia PROPN nsubj GPE\n",
      "\n",
      "Ukraine PROPN pobj GPE\n",
      "\n",
      "Afghanistan PROPN nsubj GPE\n",
      "\n",
      "------------------------------------------\n"
     ]
    },
    {
     "data": {
      "text/html": [
       "<span class=\"tex2jax_ignore\"><div class=\"entities\" style=\"line-height: 2.5; direction: ltr\">You've Not Been Told This About \n",
       "<mark class=\"entity\" style=\"background: #feca74; padding: 0.45em 0.6em; margin: 0 0.25em; line-height: 1; border-radius: 0.35em;\">\n",
       "    Russia\n",
       "    <span style=\"font-size: 0.8em; font-weight: bold; line-height: 1; border-radius: 0.35em; vertical-align: middle; margin-left: 0.5rem\">GPE</span>\n",
       "</mark>\n",
       "  via @YouTube</div></span>"
      ],
      "text/plain": [
       "<IPython.core.display.HTML object>"
      ]
     },
     "metadata": {},
     "output_type": "display_data"
    },
    {
     "name": "stdout",
     "output_type": "stream",
     "text": [
      "Russia PROPN pobj GPE\n",
      "\n"
     ]
    }
   ],
   "source": [
    "entities = []\n",
    "\n",
    "for tweet in tweets:\n",
    "    \n",
    "    print(\"------------------------------------------\")\n",
    "    \n",
    "    displacy.render(tweet, style=\"ent\")\n",
    "    #displacy.render(twtee)\n",
    "    \n",
    "    for ent in tweet.ents:\n",
    "        for token in ent:\n",
    "            print(token, token.pos_, token.dep_, token.ent_type_)\n",
    "        if not ent in entities:\n",
    "            entities.append(ent)\n",
    "        print()"
   ]
  },
  {
   "cell_type": "code",
   "execution_count": 111,
   "id": "46b19612",
   "metadata": {},
   "outputs": [
    {
     "name": "stdout",
     "output_type": "stream",
     "text": [
      "138\n"
     ]
    }
   ],
   "source": [
    "print(len(entities))"
   ]
  },
  {
   "cell_type": "code",
   "execution_count": 170,
   "id": "ea1111b7",
   "metadata": {},
   "outputs": [
    {
     "name": "stdout",
     "output_type": "stream",
     "text": [
      "array([[0., 1., 1., ..., 0., 0., 0.],\n",
      "       [1., 0., 1., ..., 0., 0., 0.],\n",
      "       [1., 1., 0., ..., 0., 0., 0.],\n",
      "       ...,\n",
      "       [0., 0., 0., ..., 0., 1., 0.],\n",
      "       [0., 0., 0., ..., 1., 0., 0.],\n",
      "       [0., 0., 0., ..., 0., 0., 0.]])\n"
     ]
    }
   ],
   "source": [
    "ent_am = np.zeros([len(entities), len(entities)])\n",
    "\n",
    "for tweet in tweets:\n",
    "    \n",
    "    if len(tweet.ents)>1:\n",
    "        for ent1 in tweet.ents:\n",
    "            for ent2 in tweet.ents:\n",
    "                if not ent1 == ent2:\n",
    "                    ent_am[entities.index(ent1)][entities.index(ent2)] += 1\n",
    "    \n",
    "pprint.pprint(ent_am)"
   ]
  },
  {
   "cell_type": "code",
   "execution_count": 171,
   "id": "a160bf67",
   "metadata": {},
   "outputs": [],
   "source": [
    "G = nx.from_numpy_matrix(ent_am)\n",
    "mapping = {i:entities[i].text for i in range(len(entities))}\n",
    "G = nx.relabel_nodes(G, mapping)"
   ]
  },
  {
   "cell_type": "code",
   "execution_count": 172,
   "id": "eae3ea96",
   "metadata": {
    "scrolled": false
   },
   "outputs": [
    {
     "data": {
      "text/plain": [
       "DegreeView({'As many as 15,000 Russian troops': 3, 'Ukraine': 22, 'NATO': 3, 'Carlson': 3, 'Putin': 8, 'elite Ukrainian drone unit': 1, 'Russian tanks': 1, 'STEELWORKS OTH1': 2, 'DJ JETLAGGED': 2, \"Red Cross' Ukraine Crisis Appeal\": 2, 'WSJ News Exclusive': 3, 'Emirati Leaders': 3, 'Biden': 3, 'Ukraine Crisis': 3, \"Russia's foreign minister\": 1, 'China': 6, 'Detained American basketball player Brittney Griner': 3, 'US Embassy official': 3, 'Russia': 23, 'State Department Spokesman Ned Price': 3, 'XRPLcommunity ukrainewar defi': 0, 'Russian priest': 3, 'Ukrainian Nazis': 3, 'American multinational corporations': 3, \"Putin's first rodeo\": 0, 'Russia Ukraine': 0, 'Moscow': 1, 'Russian people': 3, 'not all Russians': 3, 'Fiona Hill': 1, 'NATO Ukrania Rusia UnitedNations Europe Kyiv': 0, 'Montana': 1, 'Ukrainian refugees': 1, 'Nikolaev Regional State Administration Kim': 2, 'UkraineWar Russia': 2, ' NATO allies': 3, \"Ukraine's demand\": 3, 'broader, even more brutal European war': 3, \"Russia's assault\": 3, 'Anastasiades': 2, 'Turkey': 2, 'Sweden': 2, 'Swedish media': 2, 'Trudeau': 5, 'G20': 5, \"Russia's seat\": 5, 'CBC News': 5, \"Putin's invasion\": 1, 'European Left': 1, 'Nadia': 1, 'her beloved city Mariupol': 1, 'EU': 4, 'Chernihiv': 1, 'Russian soldiers': 1, 'US Army veteran': 2, \"'punchable' Tucker Carlson\": 2, \"Putin's the table\": 1, 'Russian state TV host': 2, 'Donald Trump': 2, 'US President': 2, 'Apple': 3, 'Apple Pay': 3, 'ZDNet Ukraine UkraineRussiaWar UkraineRussia': 3, '\"Ukrainian war': 0, 'Samsung': 2, 'Russia-Ukraine conflict': 2, 'VPN': 1, 'Yahoo News': 2, 'Canadians': 2, 'Mariupol': 1, 'Russian hands': 1, 'Zelensky': 0, 'Marsha Blackburn': 2, 'Russian occupiers': 3, 'Air Force Command': 3, 'Vinnytsia': 3, 'Russians': 3, 'US': 8, 'RUSSIAN OIL': 1, 'russia': 1, 'FCC': 2, 'Russian anti-virus firm Kaspersky': 2, 'U.S. national security': 2, ', Joy Reid': 7, '(MSNBC': 7, 'Nikole Hannah-Jones': 7, '(1619 BS) Ukraine war': 7, 'Ilhan Omar': 7, '(AOC Goon SQUAD': 7, 'Ukraine War': 7, 'Bidenomics': 1, 'Russian aggression': 1, 'AdolfPutin business': 1, 'Russia-Ukraine War Updates': 1, \"Putin's invasion - India\": 1, 'Russian former F1 driver Nikita Mazepin': 2, 'father Dmitry': 2, 'EU sanctions list': 2, 'RUSSIAN SOLDIERS': 0, 'Xi': 2, 'Kim': 2, 'GOP': 2, \"Putin's orders\": 4, 'Ukrainians': 4, '450.000 Europeans EmmanuelMacron UKRinUNOG': 4, 'Ukraine/Russia': 1, 'America': 1, \"Ukrainian Photojournalist's War Diary\": 0, 'Afghanistan': 2})"
      ]
     },
     "execution_count": 172,
     "metadata": {},
     "output_type": "execute_result"
    }
   ],
   "source": [
    "G.degree()"
   ]
  },
  {
   "cell_type": "code",
   "execution_count": 165,
   "id": "7ab0587f",
   "metadata": {},
   "outputs": [],
   "source": [
    "nx.write_gexf(G, \"network1.gexf\")"
   ]
  }
 ],
 "metadata": {
  "kernelspec": {
   "display_name": "Python 3 (ipykernel)",
   "language": "python",
   "name": "python3"
  },
  "language_info": {
   "codemirror_mode": {
    "name": "ipython",
    "version": 3
   },
   "file_extension": ".py",
   "mimetype": "text/x-python",
   "name": "python",
   "nbconvert_exporter": "python",
   "pygments_lexer": "ipython3",
   "version": "3.9.10"
  }
 },
 "nbformat": 4,
 "nbformat_minor": 5
}
